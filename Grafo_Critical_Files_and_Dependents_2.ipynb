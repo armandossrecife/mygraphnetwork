{
  "nbformat": 4,
  "nbformat_minor": 0,
  "metadata": {
    "colab": {
      "name": "Grafo Critical Files and Dependents 2.ipynb",
      "provenance": [],
      "collapsed_sections": [
        "EHnyDchVWDMg",
        "BEun-NooPL9x",
        "R-vl98DCWW2f",
        "L-YiPLyXPVqd",
        "thiFT36FXew-",
        "V3Kt9Jbap59_",
        "u8IpQKsITyeu",
        "dJfhzI2bUHAy",
        "45GFWlksUWYy"
      ],
      "authorship_tag": "ABX9TyPfdIhWWg5RNpQq4jS4zF2z",
      "include_colab_link": true
    },
    "kernelspec": {
      "name": "python3",
      "display_name": "Python 3"
    },
    "language_info": {
      "name": "python"
    }
  },
  "cells": [
    {
      "cell_type": "markdown",
      "metadata": {
        "id": "view-in-github",
        "colab_type": "text"
      },
      "source": [
        "<a href=\"https://colab.research.google.com/github/armandossrecife/mygraphnetwork/blob/main/Grafo_Critical_Files_and_Dependents_2.ipynb\" target=\"_parent\"><img src=\"https://colab.research.google.com/assets/colab-badge.svg\" alt=\"Open In Colab\"/></a>"
      ]
    },
    {
      "cell_type": "markdown",
      "source": [
        "# Lista de arquivos críticos e seus dependentes"
      ],
      "metadata": {
        "id": "IQicIBaXOvVJ"
      }
    },
    {
      "cell_type": "markdown",
      "source": [
        "## 1. Conjuntos dos arquivos criticos"
      ],
      "metadata": {
        "id": "EHnyDchVWDMg"
      }
    },
    {
      "cell_type": "code",
      "execution_count": 118,
      "metadata": {
        "id": "k1y4-sLyLeRy"
      },
      "outputs": [],
      "source": [
        "Conjunto1StorageService= ['HintsReader.java', 'HintVerbHandler.java', 'HintsDispatchExecutor.java', 'HintsStore.java', 'HintsService.java', 'Gossiper.java', 'ColumnFamilyStore.java', \n",
        "                                  'SizeEstimatesRecorder.java', 'DiskBoundaries.java', 'CompactionManager.java', 'Verifier.java', 'CommitLog.java', 'SystemKeyspace.java', 'JVMStabilityInspector.java', \n",
        "                                  'TokenMetadata.java', 'Message.java', 'AlterTableStatement.java', 'ByteOrderedPartitioner.java', 'BootStrapper.java', 'CassandraRoleManager.java', 'RepairRunnable.java', \n",
        "                                  'MigrationCoordinator.java']\n",
        "\n",
        "Conjunto2ColumnFamilyStore = ['SSTableRewriter.java', 'SSTableTxnWriter.java', 'IndexSummaryRedistribution.java', 'IndexSummaryManager.java', 'LifecycleTransaction.java', 'Tracker.java', \n",
        "                                     'CompactionLogger.java', 'AbstractCompactionStrategy.java', 'LeveledCompactionStrategy.java', 'CompactionStrategyManager.java', 'MajorLeveledCompactionWriter.java', \n",
        "                                     'MaxSSTableSizeWriter.java', 'CompactionAwareWriter.java', 'DefaultCompactionWriter.java', 'TimeWindowCompactionStrategy.java', 'Upgrader.java', 'CompactionTask.java', \n",
        "                                     'DateTieredCompactionStrategy.java', 'CommitLogReplayer.java', 'StorageProxy.java', 'CassandraDaemon.java', 'DataResolver.java', 'StartupChecks.java', 'HeapPool.java', \n",
        "                                     'MemtablePool.java', 'SlabPool.java', 'NativePool.java', 'StandaloneScrubber.java', 'StandaloneUpgrader.java', 'SASIIndexBuilder.java', 'TableMetrics.java', \n",
        "                                     'StreamSession.java', 'StreamReceiveTask.java', 'RepairJob.java', 'RepairMessageVerbHandler.java', 'RepairRunnable.java', 'AutoSavingCache.java']\n",
        "\n",
        "Conjunto3DatabaseDescriptor = ['HintsWriter.java', 'HintsDescriptor.java', 'HintsWriteExecutor.java', 'HintsService.java', 'SSTableReader.java', 'IndexSummaryManager.java', 'Gossiper.java', \n",
        "                                      'FailureDetector.java', 'ColumnFamilyStore.java', 'Keyspace.java', 'Memtable.java', 'Tracker.java', 'CompactionManager.java', 'CompactionStrategyManager.java', \n",
        "                                      'CompactionIterator.java', 'CompactionTask.java', 'PartitionRangeReadCommand.java', 'SinglePartitionReadCommand.java', 'CommitLog.java', 'CommitLogReader.java', \n",
        "                                      'CommitLogReplayer.java', 'CommitLogSegmentManagerCDC.java', 'CommitLogArchiver.java', 'PeriodicCommitLogService.java', 'ColumnIndex.java', 'Mutation.java', \n",
        "                                      'SystemKeyspace.java', 'ClientState.java', 'StorageProxy.java', 'CassandraDaemon.java', 'StorageService.java', 'DataResolver.java', 'StartupChecks.java', \n",
        "                                      'FBUtilities.java', 'JVMStabilityInspector.java', 'StandaloneScrubber.java', 'Util.java', 'BulkLoader.java', 'SSTableExport.java', 'StandaloneUpgrader.java', \n",
        "                                      'StartupMessage.java', 'QueryProcessor.java', 'BatchStatement.java', 'AlterTableStatement.java', 'CreateIndexStatement.java', 'CreateViewStatement.java', \n",
        "                                      'QueryOptions.java', 'TermIterator.java', 'SecondaryIndexManager.java', 'Message.java', 'StreamSession.java', 'CassandraRoleManager.java', \n",
        "                                      'PasswordAuthenticator.java', 'RolesCache.java', 'RepairOption.java', 'RepairSession.java', 'RepairJob.java', 'RepairRunnable.java', 'AutoSavingCache.java']\n",
        "\n",
        "Conjunto4CompactionManager = ['IndexSummaryManager.java', 'ColumnFamilyStore.java', 'StorageService.java', 'ActiveRepairService.java', 'StandaloneScrubber.java', 'CompactionMetrics.java', \n",
        "                                     'AutoSavingCache.java']\n",
        "\n",
        "Conjunto5StorageProxy = ['HintVerbHandler.java', 'HintsService.java', 'PartitionRangeReadCommand.java', 'TableViews.java', 'ModificationStatement.java', 'SelectStatement.java', \n",
        "                                'TraceStateImpl.java']\n",
        "\n",
        "Conjunto6SSTableReader =  ['BigTableScanner.java', 'BigTableReader.java', 'SSTableRewriter.java', 'IndexSummaryRedistribution.java', 'IndexSummaryManager.java', 'ColumnFamilyStore.java', \n",
        "                                 'UnfilteredRowIteratorWithLowerBound.java', 'SerializationHeader.java', 'Keyspace.java', 'LifecycleTransaction.java', 'LogFile.java', 'Tracker.java', \n",
        "                                 'CompactionManager.java', 'AbstractCompactionStrategy.java', 'LeveledCompactionStrategy.java', 'CompactionController.java', 'Scrubber.java', \n",
        "                                 'CompactionAwareWriter.java', 'TimeWindowCompactionStrategy.java', 'CompactionIterator.java', 'CompactionTask.java', 'DateTieredCompactionStrategy.java', \n",
        "                                 'Verifier.java', 'PartitionRangeReadCommand.java', 'SinglePartitionReadCommand.java', 'CommitLogReplayer.java', 'SSTableIterator.java', 'AbstractSSTableIterator.java', \n",
        "                                 'SSTableReversedIterator.java', 'StandaloneScrubber.java', 'SSTableExport.java', 'StandaloneUpgrader.java', 'SASIIndex.java', 'SASIIndexBuilder.java', 'DataTracker.java', \n",
        "                                 'ColumnIndex.java', 'SSTableIndex.java', 'SecondaryIndexManager.java', 'Index.java', 'TableMetrics.java']\n",
        "\n",
        "Conjunto7SelectStatement = ['ResultSet.java', 'CassandraRoleManager.java', 'PasswordAuthenticator.java', 'RepairRunnable.java']\n",
        "\n",
        "Conjunto8SinglePartitionReadCommand =  ['StorageProxy.java', 'AbstractReadExecutor.java', 'ReplicaFilteringProtection.java']\n",
        "\n",
        "Conjunto9NodeProbe = ['Compact.java', 'NetStats.java', 'TableStats.java']\n",
        "\n",
        "Conjunto10MessagingService = ['Gossiper.java', 'ColumnFilter.java', 'CommitLog.java', 'SystemKeyspace.java', 'EchoVerbHandler.java', 'StorageProxy.java', 'StorageService.java', 'ActiveRepairService.java', \n",
        "                                     'QueryProcessor.java']"
      ]
    },
    {
      "cell_type": "markdown",
      "source": [
        "##2. Dicionário contendo os arquivos críticos e seus dependentes"
      ],
      "metadata": {
        "id": "BEun-NooPL9x"
      }
    },
    {
      "cell_type": "code",
      "source": [
        "dict_atd = {}\n",
        "dict_atd['StorageService.java'] = Conjunto1StorageService\n",
        "dict_atd['ColumnFamilyStore.java'] = Conjunto2ColumnFamilyStore\n",
        "dict_atd['DatabaseDescriptor.java'] = Conjunto3DatabaseDescriptor\n",
        "dict_atd['CompactionManager.java'] = Conjunto4CompactionManager\n",
        "dict_atd['StorageProxy.java'] = Conjunto5StorageProxy\n",
        "dict_atd['TableReader.java'] = Conjunto6SSTableReader\n",
        "dict_atd['SelectStatement.java'] = Conjunto7SelectStatement\n",
        "dict_atd['SinglePartitionReadCommand.java'] = Conjunto8SinglePartitionReadCommand\n",
        "dict_atd['NodeProbe.java'] = Conjunto9NodeProbe\n",
        "dict_atd['MessagingService.java'] = Conjunto10MessagingService"
      ],
      "metadata": {
        "id": "fJgBPubdLpde"
      },
      "execution_count": 119,
      "outputs": []
    },
    {
      "cell_type": "code",
      "source": [
        "lista_arquivos_criticos = []\n",
        "lista_arquivos_dependentes = []\n",
        "\n",
        "for key, value in dict_atd.items():\n",
        "  lista_arquivos_criticos.append(key)\n",
        "  lista_arquivos_dependentes = lista_arquivos_dependentes + value\n",
        "\n",
        "lista_arquivos_atd = lista_arquivos_criticos + lista_arquivos_dependentes\n",
        "\n",
        "print(f'{len(lista_arquivos_criticos)}, lista_arquivos_criticos: {lista_arquivos_criticos}')\n",
        "print(f'{len(lista_arquivos_dependentes)}, lista_arquivos_dependentes: {lista_arquivos_dependentes}')\n",
        "print(f'{len(lista_arquivos_atd)}, lista_arquivos_atd: {lista_arquivos_atd}')"
      ],
      "metadata": {
        "colab": {
          "base_uri": "https://localhost:8080/"
        },
        "id": "lNsqd8b5LqAl",
        "outputId": "00922d31-44bf-442d-bce4-5ee608016391"
      },
      "execution_count": 120,
      "outputs": [
        {
          "output_type": "stream",
          "name": "stdout",
          "text": [
            "10, lista_arquivos_criticos: ['StorageService.java', 'ColumnFamilyStore.java', 'DatabaseDescriptor.java', 'CompactionManager.java', 'StorageProxy.java', 'TableReader.java', 'SelectStatement.java', 'SinglePartitionReadCommand.java', 'NodeProbe.java', 'MessagingService.java']\n",
            "191, lista_arquivos_dependentes: ['HintsReader.java', 'HintVerbHandler.java', 'HintsDispatchExecutor.java', 'HintsStore.java', 'HintsService.java', 'Gossiper.java', 'ColumnFamilyStore.java', 'SizeEstimatesRecorder.java', 'DiskBoundaries.java', 'CompactionManager.java', 'Verifier.java', 'CommitLog.java', 'SystemKeyspace.java', 'JVMStabilityInspector.java', 'TokenMetadata.java', 'Message.java', 'AlterTableStatement.java', 'ByteOrderedPartitioner.java', 'BootStrapper.java', 'CassandraRoleManager.java', 'RepairRunnable.java', 'MigrationCoordinator.java', 'SSTableRewriter.java', 'SSTableTxnWriter.java', 'IndexSummaryRedistribution.java', 'IndexSummaryManager.java', 'LifecycleTransaction.java', 'Tracker.java', 'CompactionLogger.java', 'AbstractCompactionStrategy.java', 'LeveledCompactionStrategy.java', 'CompactionStrategyManager.java', 'MajorLeveledCompactionWriter.java', 'MaxSSTableSizeWriter.java', 'CompactionAwareWriter.java', 'DefaultCompactionWriter.java', 'TimeWindowCompactionStrategy.java', 'Upgrader.java', 'CompactionTask.java', 'DateTieredCompactionStrategy.java', 'CommitLogReplayer.java', 'StorageProxy.java', 'CassandraDaemon.java', 'DataResolver.java', 'StartupChecks.java', 'HeapPool.java', 'MemtablePool.java', 'SlabPool.java', 'NativePool.java', 'StandaloneScrubber.java', 'StandaloneUpgrader.java', 'SASIIndexBuilder.java', 'TableMetrics.java', 'StreamSession.java', 'StreamReceiveTask.java', 'RepairJob.java', 'RepairMessageVerbHandler.java', 'RepairRunnable.java', 'AutoSavingCache.java', 'HintsWriter.java', 'HintsDescriptor.java', 'HintsWriteExecutor.java', 'HintsService.java', 'SSTableReader.java', 'IndexSummaryManager.java', 'Gossiper.java', 'FailureDetector.java', 'ColumnFamilyStore.java', 'Keyspace.java', 'Memtable.java', 'Tracker.java', 'CompactionManager.java', 'CompactionStrategyManager.java', 'CompactionIterator.java', 'CompactionTask.java', 'PartitionRangeReadCommand.java', 'SinglePartitionReadCommand.java', 'CommitLog.java', 'CommitLogReader.java', 'CommitLogReplayer.java', 'CommitLogSegmentManagerCDC.java', 'CommitLogArchiver.java', 'PeriodicCommitLogService.java', 'ColumnIndex.java', 'Mutation.java', 'SystemKeyspace.java', 'ClientState.java', 'StorageProxy.java', 'CassandraDaemon.java', 'StorageService.java', 'DataResolver.java', 'StartupChecks.java', 'FBUtilities.java', 'JVMStabilityInspector.java', 'StandaloneScrubber.java', 'Util.java', 'BulkLoader.java', 'SSTableExport.java', 'StandaloneUpgrader.java', 'StartupMessage.java', 'QueryProcessor.java', 'BatchStatement.java', 'AlterTableStatement.java', 'CreateIndexStatement.java', 'CreateViewStatement.java', 'QueryOptions.java', 'TermIterator.java', 'SecondaryIndexManager.java', 'Message.java', 'StreamSession.java', 'CassandraRoleManager.java', 'PasswordAuthenticator.java', 'RolesCache.java', 'RepairOption.java', 'RepairSession.java', 'RepairJob.java', 'RepairRunnable.java', 'AutoSavingCache.java', 'IndexSummaryManager.java', 'ColumnFamilyStore.java', 'StorageService.java', 'ActiveRepairService.java', 'StandaloneScrubber.java', 'CompactionMetrics.java', 'AutoSavingCache.java', 'HintVerbHandler.java', 'HintsService.java', 'PartitionRangeReadCommand.java', 'TableViews.java', 'ModificationStatement.java', 'SelectStatement.java', 'TraceStateImpl.java', 'BigTableScanner.java', 'BigTableReader.java', 'SSTableRewriter.java', 'IndexSummaryRedistribution.java', 'IndexSummaryManager.java', 'ColumnFamilyStore.java', 'UnfilteredRowIteratorWithLowerBound.java', 'SerializationHeader.java', 'Keyspace.java', 'LifecycleTransaction.java', 'LogFile.java', 'Tracker.java', 'CompactionManager.java', 'AbstractCompactionStrategy.java', 'LeveledCompactionStrategy.java', 'CompactionController.java', 'Scrubber.java', 'CompactionAwareWriter.java', 'TimeWindowCompactionStrategy.java', 'CompactionIterator.java', 'CompactionTask.java', 'DateTieredCompactionStrategy.java', 'Verifier.java', 'PartitionRangeReadCommand.java', 'SinglePartitionReadCommand.java', 'CommitLogReplayer.java', 'SSTableIterator.java', 'AbstractSSTableIterator.java', 'SSTableReversedIterator.java', 'StandaloneScrubber.java', 'SSTableExport.java', 'StandaloneUpgrader.java', 'SASIIndex.java', 'SASIIndexBuilder.java', 'DataTracker.java', 'ColumnIndex.java', 'SSTableIndex.java', 'SecondaryIndexManager.java', 'Index.java', 'TableMetrics.java', 'ResultSet.java', 'CassandraRoleManager.java', 'PasswordAuthenticator.java', 'RepairRunnable.java', 'StorageProxy.java', 'AbstractReadExecutor.java', 'ReplicaFilteringProtection.java', 'Compact.java', 'NetStats.java', 'TableStats.java', 'Gossiper.java', 'ColumnFilter.java', 'CommitLog.java', 'SystemKeyspace.java', 'EchoVerbHandler.java', 'StorageProxy.java', 'StorageService.java', 'ActiveRepairService.java', 'QueryProcessor.java']\n",
            "201, lista_arquivos_atd: ['StorageService.java', 'ColumnFamilyStore.java', 'DatabaseDescriptor.java', 'CompactionManager.java', 'StorageProxy.java', 'TableReader.java', 'SelectStatement.java', 'SinglePartitionReadCommand.java', 'NodeProbe.java', 'MessagingService.java', 'HintsReader.java', 'HintVerbHandler.java', 'HintsDispatchExecutor.java', 'HintsStore.java', 'HintsService.java', 'Gossiper.java', 'ColumnFamilyStore.java', 'SizeEstimatesRecorder.java', 'DiskBoundaries.java', 'CompactionManager.java', 'Verifier.java', 'CommitLog.java', 'SystemKeyspace.java', 'JVMStabilityInspector.java', 'TokenMetadata.java', 'Message.java', 'AlterTableStatement.java', 'ByteOrderedPartitioner.java', 'BootStrapper.java', 'CassandraRoleManager.java', 'RepairRunnable.java', 'MigrationCoordinator.java', 'SSTableRewriter.java', 'SSTableTxnWriter.java', 'IndexSummaryRedistribution.java', 'IndexSummaryManager.java', 'LifecycleTransaction.java', 'Tracker.java', 'CompactionLogger.java', 'AbstractCompactionStrategy.java', 'LeveledCompactionStrategy.java', 'CompactionStrategyManager.java', 'MajorLeveledCompactionWriter.java', 'MaxSSTableSizeWriter.java', 'CompactionAwareWriter.java', 'DefaultCompactionWriter.java', 'TimeWindowCompactionStrategy.java', 'Upgrader.java', 'CompactionTask.java', 'DateTieredCompactionStrategy.java', 'CommitLogReplayer.java', 'StorageProxy.java', 'CassandraDaemon.java', 'DataResolver.java', 'StartupChecks.java', 'HeapPool.java', 'MemtablePool.java', 'SlabPool.java', 'NativePool.java', 'StandaloneScrubber.java', 'StandaloneUpgrader.java', 'SASIIndexBuilder.java', 'TableMetrics.java', 'StreamSession.java', 'StreamReceiveTask.java', 'RepairJob.java', 'RepairMessageVerbHandler.java', 'RepairRunnable.java', 'AutoSavingCache.java', 'HintsWriter.java', 'HintsDescriptor.java', 'HintsWriteExecutor.java', 'HintsService.java', 'SSTableReader.java', 'IndexSummaryManager.java', 'Gossiper.java', 'FailureDetector.java', 'ColumnFamilyStore.java', 'Keyspace.java', 'Memtable.java', 'Tracker.java', 'CompactionManager.java', 'CompactionStrategyManager.java', 'CompactionIterator.java', 'CompactionTask.java', 'PartitionRangeReadCommand.java', 'SinglePartitionReadCommand.java', 'CommitLog.java', 'CommitLogReader.java', 'CommitLogReplayer.java', 'CommitLogSegmentManagerCDC.java', 'CommitLogArchiver.java', 'PeriodicCommitLogService.java', 'ColumnIndex.java', 'Mutation.java', 'SystemKeyspace.java', 'ClientState.java', 'StorageProxy.java', 'CassandraDaemon.java', 'StorageService.java', 'DataResolver.java', 'StartupChecks.java', 'FBUtilities.java', 'JVMStabilityInspector.java', 'StandaloneScrubber.java', 'Util.java', 'BulkLoader.java', 'SSTableExport.java', 'StandaloneUpgrader.java', 'StartupMessage.java', 'QueryProcessor.java', 'BatchStatement.java', 'AlterTableStatement.java', 'CreateIndexStatement.java', 'CreateViewStatement.java', 'QueryOptions.java', 'TermIterator.java', 'SecondaryIndexManager.java', 'Message.java', 'StreamSession.java', 'CassandraRoleManager.java', 'PasswordAuthenticator.java', 'RolesCache.java', 'RepairOption.java', 'RepairSession.java', 'RepairJob.java', 'RepairRunnable.java', 'AutoSavingCache.java', 'IndexSummaryManager.java', 'ColumnFamilyStore.java', 'StorageService.java', 'ActiveRepairService.java', 'StandaloneScrubber.java', 'CompactionMetrics.java', 'AutoSavingCache.java', 'HintVerbHandler.java', 'HintsService.java', 'PartitionRangeReadCommand.java', 'TableViews.java', 'ModificationStatement.java', 'SelectStatement.java', 'TraceStateImpl.java', 'BigTableScanner.java', 'BigTableReader.java', 'SSTableRewriter.java', 'IndexSummaryRedistribution.java', 'IndexSummaryManager.java', 'ColumnFamilyStore.java', 'UnfilteredRowIteratorWithLowerBound.java', 'SerializationHeader.java', 'Keyspace.java', 'LifecycleTransaction.java', 'LogFile.java', 'Tracker.java', 'CompactionManager.java', 'AbstractCompactionStrategy.java', 'LeveledCompactionStrategy.java', 'CompactionController.java', 'Scrubber.java', 'CompactionAwareWriter.java', 'TimeWindowCompactionStrategy.java', 'CompactionIterator.java', 'CompactionTask.java', 'DateTieredCompactionStrategy.java', 'Verifier.java', 'PartitionRangeReadCommand.java', 'SinglePartitionReadCommand.java', 'CommitLogReplayer.java', 'SSTableIterator.java', 'AbstractSSTableIterator.java', 'SSTableReversedIterator.java', 'StandaloneScrubber.java', 'SSTableExport.java', 'StandaloneUpgrader.java', 'SASIIndex.java', 'SASIIndexBuilder.java', 'DataTracker.java', 'ColumnIndex.java', 'SSTableIndex.java', 'SecondaryIndexManager.java', 'Index.java', 'TableMetrics.java', 'ResultSet.java', 'CassandraRoleManager.java', 'PasswordAuthenticator.java', 'RepairRunnable.java', 'StorageProxy.java', 'AbstractReadExecutor.java', 'ReplicaFilteringProtection.java', 'Compact.java', 'NetStats.java', 'TableStats.java', 'Gossiper.java', 'ColumnFilter.java', 'CommitLog.java', 'SystemKeyspace.java', 'EchoVerbHandler.java', 'StorageProxy.java', 'StorageService.java', 'ActiveRepairService.java', 'QueryProcessor.java']\n"
          ]
        }
      ]
    },
    {
      "cell_type": "markdown",
      "source": [
        "##3. Lista de arquivos ATD únicos"
      ],
      "metadata": {
        "id": "R-vl98DCWW2f"
      }
    },
    {
      "cell_type": "code",
      "source": [
        "print('Conjunto de arquivos ATD únicos')\n",
        "set_arquivos_atd_unicos = set(lista_arquivos_atd)\n",
        "lista_arquivos_atd_unicos = list(set_arquivos_atd_unicos)\n",
        "\n",
        "print(f'{len(lista_arquivos_atd_unicos)}, {lista_arquivos_atd_unicos}')"
      ],
      "metadata": {
        "colab": {
          "base_uri": "https://localhost:8080/"
        },
        "id": "VNx_cS4iLuBO",
        "outputId": "1141ef0d-399a-4efc-8463-4bb1b207497b"
      },
      "execution_count": 121,
      "outputs": [
        {
          "output_type": "stream",
          "name": "stdout",
          "text": [
            "Conjunto de arquivos ATD únicos\n",
            "124, ['TableReader.java', 'DataResolver.java', 'MemtablePool.java', 'HintVerbHandler.java', 'ResultSet.java', 'SSTableRewriter.java', 'SerializationHeader.java', 'StorageService.java', 'MessagingService.java', 'MigrationCoordinator.java', 'CompactionTask.java', 'TimeWindowCompactionStrategy.java', 'StartupMessage.java', 'SSTableTxnWriter.java', 'StreamReceiveTask.java', 'PasswordAuthenticator.java', 'CompactionStrategyManager.java', 'ColumnFamilyStore.java', 'Scrubber.java', 'DatabaseDescriptor.java', 'RepairOption.java', 'LogFile.java', 'CommitLogReader.java', 'RepairRunnable.java', 'SASIIndex.java', 'HintsDispatchExecutor.java', 'StreamSession.java', 'FBUtilities.java', 'NodeProbe.java', 'ByteOrderedPartitioner.java', 'RepairMessageVerbHandler.java', 'BigTableReader.java', 'CompactionIterator.java', 'SystemKeyspace.java', 'RolesCache.java', 'HintsService.java', 'SecondaryIndexManager.java', 'CompactionAwareWriter.java', 'Compact.java', 'Mutation.java', 'SSTableIterator.java', 'CompactionMetrics.java', 'Index.java', 'HintsWriter.java', 'ColumnIndex.java', 'AbstractSSTableIterator.java', 'AbstractReadExecutor.java', 'StartupChecks.java', 'StandaloneUpgrader.java', 'CassandraDaemon.java', 'SASIIndexBuilder.java', 'TableStats.java', 'Memtable.java', 'UnfilteredRowIteratorWithLowerBound.java', 'JVMStabilityInspector.java', 'Message.java', 'FailureDetector.java', 'EchoVerbHandler.java', 'ColumnFilter.java', 'CommitLogArchiver.java', 'MajorLeveledCompactionWriter.java', 'CreateIndexStatement.java', 'IndexSummaryRedistribution.java', 'CommitLogSegmentManagerCDC.java', 'Tracker.java', 'IndexSummaryManager.java', 'HintsDescriptor.java', 'SlabPool.java', 'StandaloneScrubber.java', 'ActiveRepairService.java', 'TermIterator.java', 'ModificationStatement.java', 'AutoSavingCache.java', 'BigTableScanner.java', 'CompactionLogger.java', 'TableViews.java', 'SizeEstimatesRecorder.java', 'SSTableIndex.java', 'DefaultCompactionWriter.java', 'MaxSSTableSizeWriter.java', 'CreateViewStatement.java', 'SelectStatement.java', 'BatchStatement.java', 'LifecycleTransaction.java', 'ReplicaFilteringProtection.java', 'Keyspace.java', 'DataTracker.java', 'SSTableReversedIterator.java', 'PartitionRangeReadCommand.java', 'TokenMetadata.java', 'AbstractCompactionStrategy.java', 'NetStats.java', 'HintsWriteExecutor.java', 'StorageProxy.java', 'SSTableReader.java', 'BootStrapper.java', 'CassandraRoleManager.java', 'CommitLog.java', 'CommitLogReplayer.java', 'HintsStore.java', 'AlterTableStatement.java', 'HeapPool.java', 'Util.java', 'CompactionController.java', 'CompactionManager.java', 'ClientState.java', 'HintsReader.java', 'SinglePartitionReadCommand.java', 'DateTieredCompactionStrategy.java', 'QueryOptions.java', 'Gossiper.java', 'NativePool.java', 'PeriodicCommitLogService.java', 'TableMetrics.java', 'QueryProcessor.java', 'LeveledCompactionStrategy.java', 'BulkLoader.java', 'SSTableExport.java', 'DiskBoundaries.java', 'Upgrader.java', 'TraceStateImpl.java', 'Verifier.java', 'RepairSession.java', 'RepairJob.java']\n"
          ]
        }
      ]
    },
    {
      "cell_type": "markdown",
      "source": [
        "##4. Dataframe contendo os arquivos críticos e dependentes"
      ],
      "metadata": {
        "id": "L-YiPLyXPVqd"
      }
    },
    {
      "cell_type": "code",
      "source": [
        "import pandas as pd\n",
        "\n",
        "lista_temp_1 = []\n",
        "lista_temp_2 = []\n",
        "for key, value in dict_atd.items():\n",
        "  lista_temp_1.append(key)\n",
        "  lista_temp_2.append(value)\n",
        "\n",
        "df_conjuntos_arquivos_atd = pd.DataFrame({'criticos':lista_temp_1, 'dependentes':lista_temp_2 })\n",
        "df_conjuntos_arquivos_atd"
      ],
      "metadata": {
        "colab": {
          "base_uri": "https://localhost:8080/",
          "height": 0
        },
        "id": "F9n0zQmHLyh9",
        "outputId": "cc55ddb2-1d19-4a80-b003-736c0846cd76"
      },
      "execution_count": 122,
      "outputs": [
        {
          "output_type": "execute_result",
          "data": {
            "text/plain": [
              "                          criticos  \\\n",
              "0              StorageService.java   \n",
              "1           ColumnFamilyStore.java   \n",
              "2          DatabaseDescriptor.java   \n",
              "3           CompactionManager.java   \n",
              "4                StorageProxy.java   \n",
              "5                 TableReader.java   \n",
              "6             SelectStatement.java   \n",
              "7  SinglePartitionReadCommand.java   \n",
              "8                   NodeProbe.java   \n",
              "9            MessagingService.java   \n",
              "\n",
              "                                         dependentes  \n",
              "0  [HintsReader.java, HintVerbHandler.java, Hints...  \n",
              "1  [SSTableRewriter.java, SSTableTxnWriter.java, ...  \n",
              "2  [HintsWriter.java, HintsDescriptor.java, Hints...  \n",
              "3  [IndexSummaryManager.java, ColumnFamilyStore.j...  \n",
              "4  [HintVerbHandler.java, HintsService.java, Part...  \n",
              "5  [BigTableScanner.java, BigTableReader.java, SS...  \n",
              "6  [ResultSet.java, CassandraRoleManager.java, Pa...  \n",
              "7  [StorageProxy.java, AbstractReadExecutor.java,...  \n",
              "8     [Compact.java, NetStats.java, TableStats.java]  \n",
              "9  [Gossiper.java, ColumnFilter.java, CommitLog.j...  "
            ],
            "text/html": [
              "\n",
              "  <div id=\"df-7c348f87-866f-4c9b-9b49-f54875c7d970\">\n",
              "    <div class=\"colab-df-container\">\n",
              "      <div>\n",
              "<style scoped>\n",
              "    .dataframe tbody tr th:only-of-type {\n",
              "        vertical-align: middle;\n",
              "    }\n",
              "\n",
              "    .dataframe tbody tr th {\n",
              "        vertical-align: top;\n",
              "    }\n",
              "\n",
              "    .dataframe thead th {\n",
              "        text-align: right;\n",
              "    }\n",
              "</style>\n",
              "<table border=\"1\" class=\"dataframe\">\n",
              "  <thead>\n",
              "    <tr style=\"text-align: right;\">\n",
              "      <th></th>\n",
              "      <th>criticos</th>\n",
              "      <th>dependentes</th>\n",
              "    </tr>\n",
              "  </thead>\n",
              "  <tbody>\n",
              "    <tr>\n",
              "      <th>0</th>\n",
              "      <td>StorageService.java</td>\n",
              "      <td>[HintsReader.java, HintVerbHandler.java, Hints...</td>\n",
              "    </tr>\n",
              "    <tr>\n",
              "      <th>1</th>\n",
              "      <td>ColumnFamilyStore.java</td>\n",
              "      <td>[SSTableRewriter.java, SSTableTxnWriter.java, ...</td>\n",
              "    </tr>\n",
              "    <tr>\n",
              "      <th>2</th>\n",
              "      <td>DatabaseDescriptor.java</td>\n",
              "      <td>[HintsWriter.java, HintsDescriptor.java, Hints...</td>\n",
              "    </tr>\n",
              "    <tr>\n",
              "      <th>3</th>\n",
              "      <td>CompactionManager.java</td>\n",
              "      <td>[IndexSummaryManager.java, ColumnFamilyStore.j...</td>\n",
              "    </tr>\n",
              "    <tr>\n",
              "      <th>4</th>\n",
              "      <td>StorageProxy.java</td>\n",
              "      <td>[HintVerbHandler.java, HintsService.java, Part...</td>\n",
              "    </tr>\n",
              "    <tr>\n",
              "      <th>5</th>\n",
              "      <td>TableReader.java</td>\n",
              "      <td>[BigTableScanner.java, BigTableReader.java, SS...</td>\n",
              "    </tr>\n",
              "    <tr>\n",
              "      <th>6</th>\n",
              "      <td>SelectStatement.java</td>\n",
              "      <td>[ResultSet.java, CassandraRoleManager.java, Pa...</td>\n",
              "    </tr>\n",
              "    <tr>\n",
              "      <th>7</th>\n",
              "      <td>SinglePartitionReadCommand.java</td>\n",
              "      <td>[StorageProxy.java, AbstractReadExecutor.java,...</td>\n",
              "    </tr>\n",
              "    <tr>\n",
              "      <th>8</th>\n",
              "      <td>NodeProbe.java</td>\n",
              "      <td>[Compact.java, NetStats.java, TableStats.java]</td>\n",
              "    </tr>\n",
              "    <tr>\n",
              "      <th>9</th>\n",
              "      <td>MessagingService.java</td>\n",
              "      <td>[Gossiper.java, ColumnFilter.java, CommitLog.j...</td>\n",
              "    </tr>\n",
              "  </tbody>\n",
              "</table>\n",
              "</div>\n",
              "      <button class=\"colab-df-convert\" onclick=\"convertToInteractive('df-7c348f87-866f-4c9b-9b49-f54875c7d970')\"\n",
              "              title=\"Convert this dataframe to an interactive table.\"\n",
              "              style=\"display:none;\">\n",
              "        \n",
              "  <svg xmlns=\"http://www.w3.org/2000/svg\" height=\"24px\"viewBox=\"0 0 24 24\"\n",
              "       width=\"24px\">\n",
              "    <path d=\"M0 0h24v24H0V0z\" fill=\"none\"/>\n",
              "    <path d=\"M18.56 5.44l.94 2.06.94-2.06 2.06-.94-2.06-.94-.94-2.06-.94 2.06-2.06.94zm-11 1L8.5 8.5l.94-2.06 2.06-.94-2.06-.94L8.5 2.5l-.94 2.06-2.06.94zm10 10l.94 2.06.94-2.06 2.06-.94-2.06-.94-.94-2.06-.94 2.06-2.06.94z\"/><path d=\"M17.41 7.96l-1.37-1.37c-.4-.4-.92-.59-1.43-.59-.52 0-1.04.2-1.43.59L10.3 9.45l-7.72 7.72c-.78.78-.78 2.05 0 2.83L4 21.41c.39.39.9.59 1.41.59.51 0 1.02-.2 1.41-.59l7.78-7.78 2.81-2.81c.8-.78.8-2.07 0-2.86zM5.41 20L4 18.59l7.72-7.72 1.47 1.35L5.41 20z\"/>\n",
              "  </svg>\n",
              "      </button>\n",
              "      \n",
              "  <style>\n",
              "    .colab-df-container {\n",
              "      display:flex;\n",
              "      flex-wrap:wrap;\n",
              "      gap: 12px;\n",
              "    }\n",
              "\n",
              "    .colab-df-convert {\n",
              "      background-color: #E8F0FE;\n",
              "      border: none;\n",
              "      border-radius: 50%;\n",
              "      cursor: pointer;\n",
              "      display: none;\n",
              "      fill: #1967D2;\n",
              "      height: 32px;\n",
              "      padding: 0 0 0 0;\n",
              "      width: 32px;\n",
              "    }\n",
              "\n",
              "    .colab-df-convert:hover {\n",
              "      background-color: #E2EBFA;\n",
              "      box-shadow: 0px 1px 2px rgba(60, 64, 67, 0.3), 0px 1px 3px 1px rgba(60, 64, 67, 0.15);\n",
              "      fill: #174EA6;\n",
              "    }\n",
              "\n",
              "    [theme=dark] .colab-df-convert {\n",
              "      background-color: #3B4455;\n",
              "      fill: #D2E3FC;\n",
              "    }\n",
              "\n",
              "    [theme=dark] .colab-df-convert:hover {\n",
              "      background-color: #434B5C;\n",
              "      box-shadow: 0px 1px 3px 1px rgba(0, 0, 0, 0.15);\n",
              "      filter: drop-shadow(0px 1px 2px rgba(0, 0, 0, 0.3));\n",
              "      fill: #FFFFFF;\n",
              "    }\n",
              "  </style>\n",
              "\n",
              "      <script>\n",
              "        const buttonEl =\n",
              "          document.querySelector('#df-7c348f87-866f-4c9b-9b49-f54875c7d970 button.colab-df-convert');\n",
              "        buttonEl.style.display =\n",
              "          google.colab.kernel.accessAllowed ? 'block' : 'none';\n",
              "\n",
              "        async function convertToInteractive(key) {\n",
              "          const element = document.querySelector('#df-7c348f87-866f-4c9b-9b49-f54875c7d970');\n",
              "          const dataTable =\n",
              "            await google.colab.kernel.invokeFunction('convertToInteractive',\n",
              "                                                     [key], {});\n",
              "          if (!dataTable) return;\n",
              "\n",
              "          const docLinkHtml = 'Like what you see? Visit the ' +\n",
              "            '<a target=\"_blank\" href=https://colab.research.google.com/notebooks/data_table.ipynb>data table notebook</a>'\n",
              "            + ' to learn more about interactive tables.';\n",
              "          element.innerHTML = '';\n",
              "          dataTable['output_type'] = 'display_data';\n",
              "          await google.colab.output.renderOutput(dataTable, element);\n",
              "          const docLink = document.createElement('div');\n",
              "          docLink.innerHTML = docLinkHtml;\n",
              "          element.appendChild(docLink);\n",
              "        }\n",
              "      </script>\n",
              "    </div>\n",
              "  </div>\n",
              "  "
            ]
          },
          "metadata": {},
          "execution_count": 122
        }
      ]
    },
    {
      "cell_type": "code",
      "source": [
        "i = 1\n",
        "for index, row in df_conjuntos_arquivos_atd.iterrows():\n",
        "  print(f\"Conjunto {i}: {row['criticos']}, {row['dependentes']}\")\n",
        "  i = i + 1"
      ],
      "metadata": {
        "colab": {
          "base_uri": "https://localhost:8080/"
        },
        "id": "8uMrwRZ0L3T0",
        "outputId": "60e8be9d-34e3-41d9-9ce7-d7250dcafc47"
      },
      "execution_count": 123,
      "outputs": [
        {
          "output_type": "stream",
          "name": "stdout",
          "text": [
            "Conjunto 1: StorageService.java, ['HintsReader.java', 'HintVerbHandler.java', 'HintsDispatchExecutor.java', 'HintsStore.java', 'HintsService.java', 'Gossiper.java', 'ColumnFamilyStore.java', 'SizeEstimatesRecorder.java', 'DiskBoundaries.java', 'CompactionManager.java', 'Verifier.java', 'CommitLog.java', 'SystemKeyspace.java', 'JVMStabilityInspector.java', 'TokenMetadata.java', 'Message.java', 'AlterTableStatement.java', 'ByteOrderedPartitioner.java', 'BootStrapper.java', 'CassandraRoleManager.java', 'RepairRunnable.java', 'MigrationCoordinator.java']\n",
            "Conjunto 2: ColumnFamilyStore.java, ['SSTableRewriter.java', 'SSTableTxnWriter.java', 'IndexSummaryRedistribution.java', 'IndexSummaryManager.java', 'LifecycleTransaction.java', 'Tracker.java', 'CompactionLogger.java', 'AbstractCompactionStrategy.java', 'LeveledCompactionStrategy.java', 'CompactionStrategyManager.java', 'MajorLeveledCompactionWriter.java', 'MaxSSTableSizeWriter.java', 'CompactionAwareWriter.java', 'DefaultCompactionWriter.java', 'TimeWindowCompactionStrategy.java', 'Upgrader.java', 'CompactionTask.java', 'DateTieredCompactionStrategy.java', 'CommitLogReplayer.java', 'StorageProxy.java', 'CassandraDaemon.java', 'DataResolver.java', 'StartupChecks.java', 'HeapPool.java', 'MemtablePool.java', 'SlabPool.java', 'NativePool.java', 'StandaloneScrubber.java', 'StandaloneUpgrader.java', 'SASIIndexBuilder.java', 'TableMetrics.java', 'StreamSession.java', 'StreamReceiveTask.java', 'RepairJob.java', 'RepairMessageVerbHandler.java', 'RepairRunnable.java', 'AutoSavingCache.java']\n",
            "Conjunto 3: DatabaseDescriptor.java, ['HintsWriter.java', 'HintsDescriptor.java', 'HintsWriteExecutor.java', 'HintsService.java', 'SSTableReader.java', 'IndexSummaryManager.java', 'Gossiper.java', 'FailureDetector.java', 'ColumnFamilyStore.java', 'Keyspace.java', 'Memtable.java', 'Tracker.java', 'CompactionManager.java', 'CompactionStrategyManager.java', 'CompactionIterator.java', 'CompactionTask.java', 'PartitionRangeReadCommand.java', 'SinglePartitionReadCommand.java', 'CommitLog.java', 'CommitLogReader.java', 'CommitLogReplayer.java', 'CommitLogSegmentManagerCDC.java', 'CommitLogArchiver.java', 'PeriodicCommitLogService.java', 'ColumnIndex.java', 'Mutation.java', 'SystemKeyspace.java', 'ClientState.java', 'StorageProxy.java', 'CassandraDaemon.java', 'StorageService.java', 'DataResolver.java', 'StartupChecks.java', 'FBUtilities.java', 'JVMStabilityInspector.java', 'StandaloneScrubber.java', 'Util.java', 'BulkLoader.java', 'SSTableExport.java', 'StandaloneUpgrader.java', 'StartupMessage.java', 'QueryProcessor.java', 'BatchStatement.java', 'AlterTableStatement.java', 'CreateIndexStatement.java', 'CreateViewStatement.java', 'QueryOptions.java', 'TermIterator.java', 'SecondaryIndexManager.java', 'Message.java', 'StreamSession.java', 'CassandraRoleManager.java', 'PasswordAuthenticator.java', 'RolesCache.java', 'RepairOption.java', 'RepairSession.java', 'RepairJob.java', 'RepairRunnable.java', 'AutoSavingCache.java']\n",
            "Conjunto 4: CompactionManager.java, ['IndexSummaryManager.java', 'ColumnFamilyStore.java', 'StorageService.java', 'ActiveRepairService.java', 'StandaloneScrubber.java', 'CompactionMetrics.java', 'AutoSavingCache.java']\n",
            "Conjunto 5: StorageProxy.java, ['HintVerbHandler.java', 'HintsService.java', 'PartitionRangeReadCommand.java', 'TableViews.java', 'ModificationStatement.java', 'SelectStatement.java', 'TraceStateImpl.java']\n",
            "Conjunto 6: TableReader.java, ['BigTableScanner.java', 'BigTableReader.java', 'SSTableRewriter.java', 'IndexSummaryRedistribution.java', 'IndexSummaryManager.java', 'ColumnFamilyStore.java', 'UnfilteredRowIteratorWithLowerBound.java', 'SerializationHeader.java', 'Keyspace.java', 'LifecycleTransaction.java', 'LogFile.java', 'Tracker.java', 'CompactionManager.java', 'AbstractCompactionStrategy.java', 'LeveledCompactionStrategy.java', 'CompactionController.java', 'Scrubber.java', 'CompactionAwareWriter.java', 'TimeWindowCompactionStrategy.java', 'CompactionIterator.java', 'CompactionTask.java', 'DateTieredCompactionStrategy.java', 'Verifier.java', 'PartitionRangeReadCommand.java', 'SinglePartitionReadCommand.java', 'CommitLogReplayer.java', 'SSTableIterator.java', 'AbstractSSTableIterator.java', 'SSTableReversedIterator.java', 'StandaloneScrubber.java', 'SSTableExport.java', 'StandaloneUpgrader.java', 'SASIIndex.java', 'SASIIndexBuilder.java', 'DataTracker.java', 'ColumnIndex.java', 'SSTableIndex.java', 'SecondaryIndexManager.java', 'Index.java', 'TableMetrics.java']\n",
            "Conjunto 7: SelectStatement.java, ['ResultSet.java', 'CassandraRoleManager.java', 'PasswordAuthenticator.java', 'RepairRunnable.java']\n",
            "Conjunto 8: SinglePartitionReadCommand.java, ['StorageProxy.java', 'AbstractReadExecutor.java', 'ReplicaFilteringProtection.java']\n",
            "Conjunto 9: NodeProbe.java, ['Compact.java', 'NetStats.java', 'TableStats.java']\n",
            "Conjunto 10: MessagingService.java, ['Gossiper.java', 'ColumnFilter.java', 'CommitLog.java', 'SystemKeyspace.java', 'EchoVerbHandler.java', 'StorageProxy.java', 'StorageService.java', 'ActiveRepairService.java', 'QueryProcessor.java']\n"
          ]
        }
      ]
    },
    {
      "cell_type": "code",
      "source": [
        "dict_atd = {}\n",
        "\n",
        "for index, row in df_conjuntos_arquivos_atd.iterrows():\n",
        "  dict_atd[row['criticos']] = row['dependentes'] \n",
        "\n",
        "lista_arquivos_criticos = []\n",
        "lista_arquivos_dependentes = []\n",
        "\n",
        "for key, value in dict_atd.items():\n",
        "  lista_arquivos_criticos.append(key)\n",
        "  lista_arquivos_dependentes = lista_arquivos_dependentes + value\n",
        "\n",
        "lista_arquivos_atd = lista_arquivos_criticos + lista_arquivos_dependentes\n",
        "\n",
        "print(f'{len(lista_arquivos_criticos)}, lista_arquivos_criticos: {lista_arquivos_criticos}')\n",
        "print(f'{len(lista_arquivos_dependentes)}, lista_arquivos_dependentes: {lista_arquivos_dependentes}')\n",
        "print(f'{len(lista_arquivos_atd)}, lista_arquivos_atd: {lista_arquivos_atd}')\n",
        "\n",
        "print('Conjunto de arquivos ATD únicos')\n",
        "set_arquivos_atd_unicos = set(lista_arquivos_atd)\n",
        "lista_arquivos_atd_unicos = list(set_arquivos_atd_unicos)\n",
        "print(f'{len(lista_arquivos_atd_unicos)}, lista_arquivos_atd_unicos: {lista_arquivos_atd_unicos}')"
      ],
      "metadata": {
        "colab": {
          "base_uri": "https://localhost:8080/"
        },
        "id": "w2g-BMV7MEVS",
        "outputId": "8a733336-66f8-476b-8a6d-cb69d6afdcde"
      },
      "execution_count": 124,
      "outputs": [
        {
          "output_type": "stream",
          "name": "stdout",
          "text": [
            "10, lista_arquivos_criticos: ['StorageService.java', 'ColumnFamilyStore.java', 'DatabaseDescriptor.java', 'CompactionManager.java', 'StorageProxy.java', 'TableReader.java', 'SelectStatement.java', 'SinglePartitionReadCommand.java', 'NodeProbe.java', 'MessagingService.java']\n",
            "191, lista_arquivos_dependentes: ['HintsReader.java', 'HintVerbHandler.java', 'HintsDispatchExecutor.java', 'HintsStore.java', 'HintsService.java', 'Gossiper.java', 'ColumnFamilyStore.java', 'SizeEstimatesRecorder.java', 'DiskBoundaries.java', 'CompactionManager.java', 'Verifier.java', 'CommitLog.java', 'SystemKeyspace.java', 'JVMStabilityInspector.java', 'TokenMetadata.java', 'Message.java', 'AlterTableStatement.java', 'ByteOrderedPartitioner.java', 'BootStrapper.java', 'CassandraRoleManager.java', 'RepairRunnable.java', 'MigrationCoordinator.java', 'SSTableRewriter.java', 'SSTableTxnWriter.java', 'IndexSummaryRedistribution.java', 'IndexSummaryManager.java', 'LifecycleTransaction.java', 'Tracker.java', 'CompactionLogger.java', 'AbstractCompactionStrategy.java', 'LeveledCompactionStrategy.java', 'CompactionStrategyManager.java', 'MajorLeveledCompactionWriter.java', 'MaxSSTableSizeWriter.java', 'CompactionAwareWriter.java', 'DefaultCompactionWriter.java', 'TimeWindowCompactionStrategy.java', 'Upgrader.java', 'CompactionTask.java', 'DateTieredCompactionStrategy.java', 'CommitLogReplayer.java', 'StorageProxy.java', 'CassandraDaemon.java', 'DataResolver.java', 'StartupChecks.java', 'HeapPool.java', 'MemtablePool.java', 'SlabPool.java', 'NativePool.java', 'StandaloneScrubber.java', 'StandaloneUpgrader.java', 'SASIIndexBuilder.java', 'TableMetrics.java', 'StreamSession.java', 'StreamReceiveTask.java', 'RepairJob.java', 'RepairMessageVerbHandler.java', 'RepairRunnable.java', 'AutoSavingCache.java', 'HintsWriter.java', 'HintsDescriptor.java', 'HintsWriteExecutor.java', 'HintsService.java', 'SSTableReader.java', 'IndexSummaryManager.java', 'Gossiper.java', 'FailureDetector.java', 'ColumnFamilyStore.java', 'Keyspace.java', 'Memtable.java', 'Tracker.java', 'CompactionManager.java', 'CompactionStrategyManager.java', 'CompactionIterator.java', 'CompactionTask.java', 'PartitionRangeReadCommand.java', 'SinglePartitionReadCommand.java', 'CommitLog.java', 'CommitLogReader.java', 'CommitLogReplayer.java', 'CommitLogSegmentManagerCDC.java', 'CommitLogArchiver.java', 'PeriodicCommitLogService.java', 'ColumnIndex.java', 'Mutation.java', 'SystemKeyspace.java', 'ClientState.java', 'StorageProxy.java', 'CassandraDaemon.java', 'StorageService.java', 'DataResolver.java', 'StartupChecks.java', 'FBUtilities.java', 'JVMStabilityInspector.java', 'StandaloneScrubber.java', 'Util.java', 'BulkLoader.java', 'SSTableExport.java', 'StandaloneUpgrader.java', 'StartupMessage.java', 'QueryProcessor.java', 'BatchStatement.java', 'AlterTableStatement.java', 'CreateIndexStatement.java', 'CreateViewStatement.java', 'QueryOptions.java', 'TermIterator.java', 'SecondaryIndexManager.java', 'Message.java', 'StreamSession.java', 'CassandraRoleManager.java', 'PasswordAuthenticator.java', 'RolesCache.java', 'RepairOption.java', 'RepairSession.java', 'RepairJob.java', 'RepairRunnable.java', 'AutoSavingCache.java', 'IndexSummaryManager.java', 'ColumnFamilyStore.java', 'StorageService.java', 'ActiveRepairService.java', 'StandaloneScrubber.java', 'CompactionMetrics.java', 'AutoSavingCache.java', 'HintVerbHandler.java', 'HintsService.java', 'PartitionRangeReadCommand.java', 'TableViews.java', 'ModificationStatement.java', 'SelectStatement.java', 'TraceStateImpl.java', 'BigTableScanner.java', 'BigTableReader.java', 'SSTableRewriter.java', 'IndexSummaryRedistribution.java', 'IndexSummaryManager.java', 'ColumnFamilyStore.java', 'UnfilteredRowIteratorWithLowerBound.java', 'SerializationHeader.java', 'Keyspace.java', 'LifecycleTransaction.java', 'LogFile.java', 'Tracker.java', 'CompactionManager.java', 'AbstractCompactionStrategy.java', 'LeveledCompactionStrategy.java', 'CompactionController.java', 'Scrubber.java', 'CompactionAwareWriter.java', 'TimeWindowCompactionStrategy.java', 'CompactionIterator.java', 'CompactionTask.java', 'DateTieredCompactionStrategy.java', 'Verifier.java', 'PartitionRangeReadCommand.java', 'SinglePartitionReadCommand.java', 'CommitLogReplayer.java', 'SSTableIterator.java', 'AbstractSSTableIterator.java', 'SSTableReversedIterator.java', 'StandaloneScrubber.java', 'SSTableExport.java', 'StandaloneUpgrader.java', 'SASIIndex.java', 'SASIIndexBuilder.java', 'DataTracker.java', 'ColumnIndex.java', 'SSTableIndex.java', 'SecondaryIndexManager.java', 'Index.java', 'TableMetrics.java', 'ResultSet.java', 'CassandraRoleManager.java', 'PasswordAuthenticator.java', 'RepairRunnable.java', 'StorageProxy.java', 'AbstractReadExecutor.java', 'ReplicaFilteringProtection.java', 'Compact.java', 'NetStats.java', 'TableStats.java', 'Gossiper.java', 'ColumnFilter.java', 'CommitLog.java', 'SystemKeyspace.java', 'EchoVerbHandler.java', 'StorageProxy.java', 'StorageService.java', 'ActiveRepairService.java', 'QueryProcessor.java']\n",
            "201, lista_arquivos_atd: ['StorageService.java', 'ColumnFamilyStore.java', 'DatabaseDescriptor.java', 'CompactionManager.java', 'StorageProxy.java', 'TableReader.java', 'SelectStatement.java', 'SinglePartitionReadCommand.java', 'NodeProbe.java', 'MessagingService.java', 'HintsReader.java', 'HintVerbHandler.java', 'HintsDispatchExecutor.java', 'HintsStore.java', 'HintsService.java', 'Gossiper.java', 'ColumnFamilyStore.java', 'SizeEstimatesRecorder.java', 'DiskBoundaries.java', 'CompactionManager.java', 'Verifier.java', 'CommitLog.java', 'SystemKeyspace.java', 'JVMStabilityInspector.java', 'TokenMetadata.java', 'Message.java', 'AlterTableStatement.java', 'ByteOrderedPartitioner.java', 'BootStrapper.java', 'CassandraRoleManager.java', 'RepairRunnable.java', 'MigrationCoordinator.java', 'SSTableRewriter.java', 'SSTableTxnWriter.java', 'IndexSummaryRedistribution.java', 'IndexSummaryManager.java', 'LifecycleTransaction.java', 'Tracker.java', 'CompactionLogger.java', 'AbstractCompactionStrategy.java', 'LeveledCompactionStrategy.java', 'CompactionStrategyManager.java', 'MajorLeveledCompactionWriter.java', 'MaxSSTableSizeWriter.java', 'CompactionAwareWriter.java', 'DefaultCompactionWriter.java', 'TimeWindowCompactionStrategy.java', 'Upgrader.java', 'CompactionTask.java', 'DateTieredCompactionStrategy.java', 'CommitLogReplayer.java', 'StorageProxy.java', 'CassandraDaemon.java', 'DataResolver.java', 'StartupChecks.java', 'HeapPool.java', 'MemtablePool.java', 'SlabPool.java', 'NativePool.java', 'StandaloneScrubber.java', 'StandaloneUpgrader.java', 'SASIIndexBuilder.java', 'TableMetrics.java', 'StreamSession.java', 'StreamReceiveTask.java', 'RepairJob.java', 'RepairMessageVerbHandler.java', 'RepairRunnable.java', 'AutoSavingCache.java', 'HintsWriter.java', 'HintsDescriptor.java', 'HintsWriteExecutor.java', 'HintsService.java', 'SSTableReader.java', 'IndexSummaryManager.java', 'Gossiper.java', 'FailureDetector.java', 'ColumnFamilyStore.java', 'Keyspace.java', 'Memtable.java', 'Tracker.java', 'CompactionManager.java', 'CompactionStrategyManager.java', 'CompactionIterator.java', 'CompactionTask.java', 'PartitionRangeReadCommand.java', 'SinglePartitionReadCommand.java', 'CommitLog.java', 'CommitLogReader.java', 'CommitLogReplayer.java', 'CommitLogSegmentManagerCDC.java', 'CommitLogArchiver.java', 'PeriodicCommitLogService.java', 'ColumnIndex.java', 'Mutation.java', 'SystemKeyspace.java', 'ClientState.java', 'StorageProxy.java', 'CassandraDaemon.java', 'StorageService.java', 'DataResolver.java', 'StartupChecks.java', 'FBUtilities.java', 'JVMStabilityInspector.java', 'StandaloneScrubber.java', 'Util.java', 'BulkLoader.java', 'SSTableExport.java', 'StandaloneUpgrader.java', 'StartupMessage.java', 'QueryProcessor.java', 'BatchStatement.java', 'AlterTableStatement.java', 'CreateIndexStatement.java', 'CreateViewStatement.java', 'QueryOptions.java', 'TermIterator.java', 'SecondaryIndexManager.java', 'Message.java', 'StreamSession.java', 'CassandraRoleManager.java', 'PasswordAuthenticator.java', 'RolesCache.java', 'RepairOption.java', 'RepairSession.java', 'RepairJob.java', 'RepairRunnable.java', 'AutoSavingCache.java', 'IndexSummaryManager.java', 'ColumnFamilyStore.java', 'StorageService.java', 'ActiveRepairService.java', 'StandaloneScrubber.java', 'CompactionMetrics.java', 'AutoSavingCache.java', 'HintVerbHandler.java', 'HintsService.java', 'PartitionRangeReadCommand.java', 'TableViews.java', 'ModificationStatement.java', 'SelectStatement.java', 'TraceStateImpl.java', 'BigTableScanner.java', 'BigTableReader.java', 'SSTableRewriter.java', 'IndexSummaryRedistribution.java', 'IndexSummaryManager.java', 'ColumnFamilyStore.java', 'UnfilteredRowIteratorWithLowerBound.java', 'SerializationHeader.java', 'Keyspace.java', 'LifecycleTransaction.java', 'LogFile.java', 'Tracker.java', 'CompactionManager.java', 'AbstractCompactionStrategy.java', 'LeveledCompactionStrategy.java', 'CompactionController.java', 'Scrubber.java', 'CompactionAwareWriter.java', 'TimeWindowCompactionStrategy.java', 'CompactionIterator.java', 'CompactionTask.java', 'DateTieredCompactionStrategy.java', 'Verifier.java', 'PartitionRangeReadCommand.java', 'SinglePartitionReadCommand.java', 'CommitLogReplayer.java', 'SSTableIterator.java', 'AbstractSSTableIterator.java', 'SSTableReversedIterator.java', 'StandaloneScrubber.java', 'SSTableExport.java', 'StandaloneUpgrader.java', 'SASIIndex.java', 'SASIIndexBuilder.java', 'DataTracker.java', 'ColumnIndex.java', 'SSTableIndex.java', 'SecondaryIndexManager.java', 'Index.java', 'TableMetrics.java', 'ResultSet.java', 'CassandraRoleManager.java', 'PasswordAuthenticator.java', 'RepairRunnable.java', 'StorageProxy.java', 'AbstractReadExecutor.java', 'ReplicaFilteringProtection.java', 'Compact.java', 'NetStats.java', 'TableStats.java', 'Gossiper.java', 'ColumnFilter.java', 'CommitLog.java', 'SystemKeyspace.java', 'EchoVerbHandler.java', 'StorageProxy.java', 'StorageService.java', 'ActiveRepairService.java', 'QueryProcessor.java']\n",
            "Conjunto de arquivos ATD únicos\n",
            "124, lista_arquivos_atd_unicos: ['TableReader.java', 'DataResolver.java', 'MemtablePool.java', 'HintVerbHandler.java', 'ResultSet.java', 'SSTableRewriter.java', 'SerializationHeader.java', 'StorageService.java', 'MessagingService.java', 'MigrationCoordinator.java', 'CompactionTask.java', 'TimeWindowCompactionStrategy.java', 'StartupMessage.java', 'SSTableTxnWriter.java', 'StreamReceiveTask.java', 'PasswordAuthenticator.java', 'CompactionStrategyManager.java', 'ColumnFamilyStore.java', 'Scrubber.java', 'DatabaseDescriptor.java', 'RepairOption.java', 'LogFile.java', 'CommitLogReader.java', 'RepairRunnable.java', 'SASIIndex.java', 'HintsDispatchExecutor.java', 'StreamSession.java', 'FBUtilities.java', 'NodeProbe.java', 'ByteOrderedPartitioner.java', 'RepairMessageVerbHandler.java', 'BigTableReader.java', 'CompactionIterator.java', 'SystemKeyspace.java', 'RolesCache.java', 'HintsService.java', 'SecondaryIndexManager.java', 'CompactionAwareWriter.java', 'Compact.java', 'Mutation.java', 'SSTableIterator.java', 'CompactionMetrics.java', 'Index.java', 'HintsWriter.java', 'ColumnIndex.java', 'AbstractSSTableIterator.java', 'AbstractReadExecutor.java', 'StartupChecks.java', 'StandaloneUpgrader.java', 'CassandraDaemon.java', 'SASIIndexBuilder.java', 'TableStats.java', 'Memtable.java', 'UnfilteredRowIteratorWithLowerBound.java', 'JVMStabilityInspector.java', 'Message.java', 'FailureDetector.java', 'EchoVerbHandler.java', 'ColumnFilter.java', 'CommitLogArchiver.java', 'MajorLeveledCompactionWriter.java', 'CreateIndexStatement.java', 'IndexSummaryRedistribution.java', 'CommitLogSegmentManagerCDC.java', 'Tracker.java', 'IndexSummaryManager.java', 'HintsDescriptor.java', 'SlabPool.java', 'StandaloneScrubber.java', 'ActiveRepairService.java', 'TermIterator.java', 'ModificationStatement.java', 'AutoSavingCache.java', 'BigTableScanner.java', 'CompactionLogger.java', 'TableViews.java', 'SizeEstimatesRecorder.java', 'SSTableIndex.java', 'DefaultCompactionWriter.java', 'MaxSSTableSizeWriter.java', 'CreateViewStatement.java', 'SelectStatement.java', 'BatchStatement.java', 'LifecycleTransaction.java', 'ReplicaFilteringProtection.java', 'Keyspace.java', 'DataTracker.java', 'SSTableReversedIterator.java', 'PartitionRangeReadCommand.java', 'TokenMetadata.java', 'AbstractCompactionStrategy.java', 'NetStats.java', 'HintsWriteExecutor.java', 'StorageProxy.java', 'SSTableReader.java', 'BootStrapper.java', 'CassandraRoleManager.java', 'CommitLog.java', 'CommitLogReplayer.java', 'HintsStore.java', 'AlterTableStatement.java', 'HeapPool.java', 'Util.java', 'CompactionController.java', 'CompactionManager.java', 'ClientState.java', 'HintsReader.java', 'SinglePartitionReadCommand.java', 'DateTieredCompactionStrategy.java', 'QueryOptions.java', 'Gossiper.java', 'NativePool.java', 'PeriodicCommitLogService.java', 'TableMetrics.java', 'QueryProcessor.java', 'LeveledCompactionStrategy.java', 'BulkLoader.java', 'SSTableExport.java', 'DiskBoundaries.java', 'Upgrader.java', 'TraceStateImpl.java', 'Verifier.java', 'RepairSession.java', 'RepairJob.java']\n"
          ]
        }
      ]
    },
    {
      "cell_type": "markdown",
      "source": [
        "## 5. Prepara os nós e as conexões do grafo"
      ],
      "metadata": {
        "id": "thiFT36FXew-"
      }
    },
    {
      "cell_type": "code",
      "source": [
        "my_edges = []\n",
        "\n",
        "# para cada arquivo critico crie a tupla (arquivo_critico, dependente)\n",
        "for index, row in df_conjuntos_arquivos_atd.iterrows():\n",
        "  print(f\"Analisando o arquivo crítico: {row['criticos']}\")\n",
        "  for each in row['dependentes']:\n",
        "    elemento = (row['criticos'], each)\n",
        "    my_edges.append(elemento)\n",
        "\n",
        "print(f'Lista de conexões: {my_edges}')\n",
        "  "
      ],
      "metadata": {
        "colab": {
          "base_uri": "https://localhost:8080/"
        },
        "id": "BfYKRz1lXsDW",
        "outputId": "831be61d-1f70-4497-f135-13e6c2321030"
      },
      "execution_count": 125,
      "outputs": [
        {
          "output_type": "stream",
          "name": "stdout",
          "text": [
            "Analisando o arquivo crítico: StorageService.java\n",
            "Analisando o arquivo crítico: ColumnFamilyStore.java\n",
            "Analisando o arquivo crítico: DatabaseDescriptor.java\n",
            "Analisando o arquivo crítico: CompactionManager.java\n",
            "Analisando o arquivo crítico: StorageProxy.java\n",
            "Analisando o arquivo crítico: TableReader.java\n",
            "Analisando o arquivo crítico: SelectStatement.java\n",
            "Analisando o arquivo crítico: SinglePartitionReadCommand.java\n",
            "Analisando o arquivo crítico: NodeProbe.java\n",
            "Analisando o arquivo crítico: MessagingService.java\n",
            "Lista de conexões: [('StorageService.java', 'HintsReader.java'), ('StorageService.java', 'HintVerbHandler.java'), ('StorageService.java', 'HintsDispatchExecutor.java'), ('StorageService.java', 'HintsStore.java'), ('StorageService.java', 'HintsService.java'), ('StorageService.java', 'Gossiper.java'), ('StorageService.java', 'ColumnFamilyStore.java'), ('StorageService.java', 'SizeEstimatesRecorder.java'), ('StorageService.java', 'DiskBoundaries.java'), ('StorageService.java', 'CompactionManager.java'), ('StorageService.java', 'Verifier.java'), ('StorageService.java', 'CommitLog.java'), ('StorageService.java', 'SystemKeyspace.java'), ('StorageService.java', 'JVMStabilityInspector.java'), ('StorageService.java', 'TokenMetadata.java'), ('StorageService.java', 'Message.java'), ('StorageService.java', 'AlterTableStatement.java'), ('StorageService.java', 'ByteOrderedPartitioner.java'), ('StorageService.java', 'BootStrapper.java'), ('StorageService.java', 'CassandraRoleManager.java'), ('StorageService.java', 'RepairRunnable.java'), ('StorageService.java', 'MigrationCoordinator.java'), ('ColumnFamilyStore.java', 'SSTableRewriter.java'), ('ColumnFamilyStore.java', 'SSTableTxnWriter.java'), ('ColumnFamilyStore.java', 'IndexSummaryRedistribution.java'), ('ColumnFamilyStore.java', 'IndexSummaryManager.java'), ('ColumnFamilyStore.java', 'LifecycleTransaction.java'), ('ColumnFamilyStore.java', 'Tracker.java'), ('ColumnFamilyStore.java', 'CompactionLogger.java'), ('ColumnFamilyStore.java', 'AbstractCompactionStrategy.java'), ('ColumnFamilyStore.java', 'LeveledCompactionStrategy.java'), ('ColumnFamilyStore.java', 'CompactionStrategyManager.java'), ('ColumnFamilyStore.java', 'MajorLeveledCompactionWriter.java'), ('ColumnFamilyStore.java', 'MaxSSTableSizeWriter.java'), ('ColumnFamilyStore.java', 'CompactionAwareWriter.java'), ('ColumnFamilyStore.java', 'DefaultCompactionWriter.java'), ('ColumnFamilyStore.java', 'TimeWindowCompactionStrategy.java'), ('ColumnFamilyStore.java', 'Upgrader.java'), ('ColumnFamilyStore.java', 'CompactionTask.java'), ('ColumnFamilyStore.java', 'DateTieredCompactionStrategy.java'), ('ColumnFamilyStore.java', 'CommitLogReplayer.java'), ('ColumnFamilyStore.java', 'StorageProxy.java'), ('ColumnFamilyStore.java', 'CassandraDaemon.java'), ('ColumnFamilyStore.java', 'DataResolver.java'), ('ColumnFamilyStore.java', 'StartupChecks.java'), ('ColumnFamilyStore.java', 'HeapPool.java'), ('ColumnFamilyStore.java', 'MemtablePool.java'), ('ColumnFamilyStore.java', 'SlabPool.java'), ('ColumnFamilyStore.java', 'NativePool.java'), ('ColumnFamilyStore.java', 'StandaloneScrubber.java'), ('ColumnFamilyStore.java', 'StandaloneUpgrader.java'), ('ColumnFamilyStore.java', 'SASIIndexBuilder.java'), ('ColumnFamilyStore.java', 'TableMetrics.java'), ('ColumnFamilyStore.java', 'StreamSession.java'), ('ColumnFamilyStore.java', 'StreamReceiveTask.java'), ('ColumnFamilyStore.java', 'RepairJob.java'), ('ColumnFamilyStore.java', 'RepairMessageVerbHandler.java'), ('ColumnFamilyStore.java', 'RepairRunnable.java'), ('ColumnFamilyStore.java', 'AutoSavingCache.java'), ('DatabaseDescriptor.java', 'HintsWriter.java'), ('DatabaseDescriptor.java', 'HintsDescriptor.java'), ('DatabaseDescriptor.java', 'HintsWriteExecutor.java'), ('DatabaseDescriptor.java', 'HintsService.java'), ('DatabaseDescriptor.java', 'SSTableReader.java'), ('DatabaseDescriptor.java', 'IndexSummaryManager.java'), ('DatabaseDescriptor.java', 'Gossiper.java'), ('DatabaseDescriptor.java', 'FailureDetector.java'), ('DatabaseDescriptor.java', 'ColumnFamilyStore.java'), ('DatabaseDescriptor.java', 'Keyspace.java'), ('DatabaseDescriptor.java', 'Memtable.java'), ('DatabaseDescriptor.java', 'Tracker.java'), ('DatabaseDescriptor.java', 'CompactionManager.java'), ('DatabaseDescriptor.java', 'CompactionStrategyManager.java'), ('DatabaseDescriptor.java', 'CompactionIterator.java'), ('DatabaseDescriptor.java', 'CompactionTask.java'), ('DatabaseDescriptor.java', 'PartitionRangeReadCommand.java'), ('DatabaseDescriptor.java', 'SinglePartitionReadCommand.java'), ('DatabaseDescriptor.java', 'CommitLog.java'), ('DatabaseDescriptor.java', 'CommitLogReader.java'), ('DatabaseDescriptor.java', 'CommitLogReplayer.java'), ('DatabaseDescriptor.java', 'CommitLogSegmentManagerCDC.java'), ('DatabaseDescriptor.java', 'CommitLogArchiver.java'), ('DatabaseDescriptor.java', 'PeriodicCommitLogService.java'), ('DatabaseDescriptor.java', 'ColumnIndex.java'), ('DatabaseDescriptor.java', 'Mutation.java'), ('DatabaseDescriptor.java', 'SystemKeyspace.java'), ('DatabaseDescriptor.java', 'ClientState.java'), ('DatabaseDescriptor.java', 'StorageProxy.java'), ('DatabaseDescriptor.java', 'CassandraDaemon.java'), ('DatabaseDescriptor.java', 'StorageService.java'), ('DatabaseDescriptor.java', 'DataResolver.java'), ('DatabaseDescriptor.java', 'StartupChecks.java'), ('DatabaseDescriptor.java', 'FBUtilities.java'), ('DatabaseDescriptor.java', 'JVMStabilityInspector.java'), ('DatabaseDescriptor.java', 'StandaloneScrubber.java'), ('DatabaseDescriptor.java', 'Util.java'), ('DatabaseDescriptor.java', 'BulkLoader.java'), ('DatabaseDescriptor.java', 'SSTableExport.java'), ('DatabaseDescriptor.java', 'StandaloneUpgrader.java'), ('DatabaseDescriptor.java', 'StartupMessage.java'), ('DatabaseDescriptor.java', 'QueryProcessor.java'), ('DatabaseDescriptor.java', 'BatchStatement.java'), ('DatabaseDescriptor.java', 'AlterTableStatement.java'), ('DatabaseDescriptor.java', 'CreateIndexStatement.java'), ('DatabaseDescriptor.java', 'CreateViewStatement.java'), ('DatabaseDescriptor.java', 'QueryOptions.java'), ('DatabaseDescriptor.java', 'TermIterator.java'), ('DatabaseDescriptor.java', 'SecondaryIndexManager.java'), ('DatabaseDescriptor.java', 'Message.java'), ('DatabaseDescriptor.java', 'StreamSession.java'), ('DatabaseDescriptor.java', 'CassandraRoleManager.java'), ('DatabaseDescriptor.java', 'PasswordAuthenticator.java'), ('DatabaseDescriptor.java', 'RolesCache.java'), ('DatabaseDescriptor.java', 'RepairOption.java'), ('DatabaseDescriptor.java', 'RepairSession.java'), ('DatabaseDescriptor.java', 'RepairJob.java'), ('DatabaseDescriptor.java', 'RepairRunnable.java'), ('DatabaseDescriptor.java', 'AutoSavingCache.java'), ('CompactionManager.java', 'IndexSummaryManager.java'), ('CompactionManager.java', 'ColumnFamilyStore.java'), ('CompactionManager.java', 'StorageService.java'), ('CompactionManager.java', 'ActiveRepairService.java'), ('CompactionManager.java', 'StandaloneScrubber.java'), ('CompactionManager.java', 'CompactionMetrics.java'), ('CompactionManager.java', 'AutoSavingCache.java'), ('StorageProxy.java', 'HintVerbHandler.java'), ('StorageProxy.java', 'HintsService.java'), ('StorageProxy.java', 'PartitionRangeReadCommand.java'), ('StorageProxy.java', 'TableViews.java'), ('StorageProxy.java', 'ModificationStatement.java'), ('StorageProxy.java', 'SelectStatement.java'), ('StorageProxy.java', 'TraceStateImpl.java'), ('TableReader.java', 'BigTableScanner.java'), ('TableReader.java', 'BigTableReader.java'), ('TableReader.java', 'SSTableRewriter.java'), ('TableReader.java', 'IndexSummaryRedistribution.java'), ('TableReader.java', 'IndexSummaryManager.java'), ('TableReader.java', 'ColumnFamilyStore.java'), ('TableReader.java', 'UnfilteredRowIteratorWithLowerBound.java'), ('TableReader.java', 'SerializationHeader.java'), ('TableReader.java', 'Keyspace.java'), ('TableReader.java', 'LifecycleTransaction.java'), ('TableReader.java', 'LogFile.java'), ('TableReader.java', 'Tracker.java'), ('TableReader.java', 'CompactionManager.java'), ('TableReader.java', 'AbstractCompactionStrategy.java'), ('TableReader.java', 'LeveledCompactionStrategy.java'), ('TableReader.java', 'CompactionController.java'), ('TableReader.java', 'Scrubber.java'), ('TableReader.java', 'CompactionAwareWriter.java'), ('TableReader.java', 'TimeWindowCompactionStrategy.java'), ('TableReader.java', 'CompactionIterator.java'), ('TableReader.java', 'CompactionTask.java'), ('TableReader.java', 'DateTieredCompactionStrategy.java'), ('TableReader.java', 'Verifier.java'), ('TableReader.java', 'PartitionRangeReadCommand.java'), ('TableReader.java', 'SinglePartitionReadCommand.java'), ('TableReader.java', 'CommitLogReplayer.java'), ('TableReader.java', 'SSTableIterator.java'), ('TableReader.java', 'AbstractSSTableIterator.java'), ('TableReader.java', 'SSTableReversedIterator.java'), ('TableReader.java', 'StandaloneScrubber.java'), ('TableReader.java', 'SSTableExport.java'), ('TableReader.java', 'StandaloneUpgrader.java'), ('TableReader.java', 'SASIIndex.java'), ('TableReader.java', 'SASIIndexBuilder.java'), ('TableReader.java', 'DataTracker.java'), ('TableReader.java', 'ColumnIndex.java'), ('TableReader.java', 'SSTableIndex.java'), ('TableReader.java', 'SecondaryIndexManager.java'), ('TableReader.java', 'Index.java'), ('TableReader.java', 'TableMetrics.java'), ('SelectStatement.java', 'ResultSet.java'), ('SelectStatement.java', 'CassandraRoleManager.java'), ('SelectStatement.java', 'PasswordAuthenticator.java'), ('SelectStatement.java', 'RepairRunnable.java'), ('SinglePartitionReadCommand.java', 'StorageProxy.java'), ('SinglePartitionReadCommand.java', 'AbstractReadExecutor.java'), ('SinglePartitionReadCommand.java', 'ReplicaFilteringProtection.java'), ('NodeProbe.java', 'Compact.java'), ('NodeProbe.java', 'NetStats.java'), ('NodeProbe.java', 'TableStats.java'), ('MessagingService.java', 'Gossiper.java'), ('MessagingService.java', 'ColumnFilter.java'), ('MessagingService.java', 'CommitLog.java'), ('MessagingService.java', 'SystemKeyspace.java'), ('MessagingService.java', 'EchoVerbHandler.java'), ('MessagingService.java', 'StorageProxy.java'), ('MessagingService.java', 'StorageService.java'), ('MessagingService.java', 'ActiveRepairService.java'), ('MessagingService.java', 'QueryProcessor.java')]\n"
          ]
        }
      ]
    },
    {
      "cell_type": "markdown",
      "source": [
        "# Grafo das dependências"
      ],
      "metadata": {
        "id": "-eGfeEQYP20Q"
      }
    },
    {
      "cell_type": "code",
      "source": [
        "# Importa as bibliotecas para gerar os grafos\n",
        "import plotly.graph_objects as go\n",
        "import networkx as nx"
      ],
      "metadata": {
        "id": "qDVWBnUqOUp7"
      },
      "execution_count": 128,
      "outputs": []
    },
    {
      "cell_type": "markdown",
      "source": [
        "## Funções de apoio"
      ],
      "metadata": {
        "id": "V3Kt9Jbap59_"
      }
    },
    {
      "cell_type": "code",
      "source": [
        "# Dado um grafo auxiliar gera n posicoes aleatorias\n",
        "def generate_nodes_positions(qtd_nodes=124):\n",
        "  G_auxiliar = nx.random_geometric_graph(qtd_nodes, 0.125)\n",
        "  list_nodes_positions = []\n",
        "  for each in G_auxiliar.nodes(data=True): \n",
        "    list_nodes_positions.append(each[1]['pos'])\n",
        "  return list_nodes_positions\n",
        "\n",
        "def generate_graph(lista_arquivos_atd_unicos, my_edges, list_nodes_positions):\n",
        "  G = nx.Graph()\n",
        "  node_list = lista_arquivos_atd_unicos\n",
        "  for i in range(len(node_list)):\n",
        "    G.add_node(node_list[i], pos=list_nodes_positions[i])\n",
        "  G.add_edges_from(my_edges)\n",
        "  return G\n",
        "\n",
        "def define_edges_x_y(G):\n",
        "  edge_x = []\n",
        "  edge_y = []\n",
        "  for edge in G.edges():\n",
        "    x0, y0 = G.nodes[edge[0]]['pos']\n",
        "    x1, y1 = G.nodes[edge[1]]['pos']\n",
        "    edge_x.append(x0)\n",
        "    edge_x.append(x1)\n",
        "    edge_x.append(None)\n",
        "    edge_y.append(y0)\n",
        "    edge_y.append(y1)\n",
        "    edge_y.append(None)\n",
        "  return edge_x, edge_y\n",
        "\n",
        "def define_edge_trace(edge_x, edge_y):\n",
        "  edge_trace = go.Scatter(\n",
        "    x=edge_x, y=edge_y,\n",
        "    line=dict(width=0.5, color='#888'),\n",
        "    hoverinfo='none',\n",
        "    mode='lines')\n",
        "  return edge_trace\n",
        "\n",
        "def generate_nodes_x_y(G):\n",
        "  node_x = []\n",
        "  node_y = []\n",
        "  for node in G.nodes():\n",
        "    x, y = G.nodes[node]['pos']\n",
        "    node_x.append(x)\n",
        "    node_y.append(y)\n",
        "  return node_x, node_y\n",
        "\n",
        "def define_node_trace(node_x, node_y):\n",
        "  node_trace = go.Scatter(\n",
        "    x=node_x, y=node_y,mode='markers',hoverinfo='text',\n",
        "    marker=dict(showscale=True,colorscale='YlGnBu',reversescale=True,color=[],size=10, \n",
        "                colorbar=dict(thickness=15,title='Node Connections',xanchor='left',titleside='right'), line_width=2)\n",
        "    )\n",
        "  return node_trace"
      ],
      "metadata": {
        "id": "SwylBXqYp8LF"
      },
      "execution_count": 129,
      "outputs": []
    },
    {
      "cell_type": "markdown",
      "source": [
        "## 1. Cria o grafo contendo seus nós e arestas"
      ],
      "metadata": {
        "id": "u8IpQKsITyeu"
      }
    },
    {
      "cell_type": "code",
      "source": [
        "list_nodes_positions = generate_nodes_positions()\n",
        "G = generate_graph(lista_arquivos_atd_unicos, my_edges, list_nodes_positions)"
      ],
      "metadata": {
        "id": "obANulwWl5_L"
      },
      "execution_count": 130,
      "outputs": []
    },
    {
      "cell_type": "code",
      "source": [
        "print(f'{len(G.nodes())}, Nodes: {G.nodes()}')\n",
        "print(f'{len(G.edges())}, Edges: {G.edges()}')"
      ],
      "metadata": {
        "colab": {
          "base_uri": "https://localhost:8080/"
        },
        "id": "F4vnhBa1alrF",
        "outputId": "02863656-13e5-4375-ada0-93ca52cf7fb8"
      },
      "execution_count": 131,
      "outputs": [
        {
          "output_type": "stream",
          "name": "stdout",
          "text": [
            "124, Nodes: ['TableReader.java', 'DataResolver.java', 'MemtablePool.java', 'HintVerbHandler.java', 'ResultSet.java', 'SSTableRewriter.java', 'SerializationHeader.java', 'StorageService.java', 'MessagingService.java', 'MigrationCoordinator.java', 'CompactionTask.java', 'TimeWindowCompactionStrategy.java', 'StartupMessage.java', 'SSTableTxnWriter.java', 'StreamReceiveTask.java', 'PasswordAuthenticator.java', 'CompactionStrategyManager.java', 'ColumnFamilyStore.java', 'Scrubber.java', 'DatabaseDescriptor.java', 'RepairOption.java', 'LogFile.java', 'CommitLogReader.java', 'RepairRunnable.java', 'SASIIndex.java', 'HintsDispatchExecutor.java', 'StreamSession.java', 'FBUtilities.java', 'NodeProbe.java', 'ByteOrderedPartitioner.java', 'RepairMessageVerbHandler.java', 'BigTableReader.java', 'CompactionIterator.java', 'SystemKeyspace.java', 'RolesCache.java', 'HintsService.java', 'SecondaryIndexManager.java', 'CompactionAwareWriter.java', 'Compact.java', 'Mutation.java', 'SSTableIterator.java', 'CompactionMetrics.java', 'Index.java', 'HintsWriter.java', 'ColumnIndex.java', 'AbstractSSTableIterator.java', 'AbstractReadExecutor.java', 'StartupChecks.java', 'StandaloneUpgrader.java', 'CassandraDaemon.java', 'SASIIndexBuilder.java', 'TableStats.java', 'Memtable.java', 'UnfilteredRowIteratorWithLowerBound.java', 'JVMStabilityInspector.java', 'Message.java', 'FailureDetector.java', 'EchoVerbHandler.java', 'ColumnFilter.java', 'CommitLogArchiver.java', 'MajorLeveledCompactionWriter.java', 'CreateIndexStatement.java', 'IndexSummaryRedistribution.java', 'CommitLogSegmentManagerCDC.java', 'Tracker.java', 'IndexSummaryManager.java', 'HintsDescriptor.java', 'SlabPool.java', 'StandaloneScrubber.java', 'ActiveRepairService.java', 'TermIterator.java', 'ModificationStatement.java', 'AutoSavingCache.java', 'BigTableScanner.java', 'CompactionLogger.java', 'TableViews.java', 'SizeEstimatesRecorder.java', 'SSTableIndex.java', 'DefaultCompactionWriter.java', 'MaxSSTableSizeWriter.java', 'CreateViewStatement.java', 'SelectStatement.java', 'BatchStatement.java', 'LifecycleTransaction.java', 'ReplicaFilteringProtection.java', 'Keyspace.java', 'DataTracker.java', 'SSTableReversedIterator.java', 'PartitionRangeReadCommand.java', 'TokenMetadata.java', 'AbstractCompactionStrategy.java', 'NetStats.java', 'HintsWriteExecutor.java', 'StorageProxy.java', 'SSTableReader.java', 'BootStrapper.java', 'CassandraRoleManager.java', 'CommitLog.java', 'CommitLogReplayer.java', 'HintsStore.java', 'AlterTableStatement.java', 'HeapPool.java', 'Util.java', 'CompactionController.java', 'CompactionManager.java', 'ClientState.java', 'HintsReader.java', 'SinglePartitionReadCommand.java', 'DateTieredCompactionStrategy.java', 'QueryOptions.java', 'Gossiper.java', 'NativePool.java', 'PeriodicCommitLogService.java', 'TableMetrics.java', 'QueryProcessor.java', 'LeveledCompactionStrategy.java', 'BulkLoader.java', 'SSTableExport.java', 'DiskBoundaries.java', 'Upgrader.java', 'TraceStateImpl.java', 'Verifier.java', 'RepairSession.java', 'RepairJob.java']\n",
            "190, Edges: [('TableReader.java', 'BigTableScanner.java'), ('TableReader.java', 'BigTableReader.java'), ('TableReader.java', 'SSTableRewriter.java'), ('TableReader.java', 'IndexSummaryRedistribution.java'), ('TableReader.java', 'IndexSummaryManager.java'), ('TableReader.java', 'ColumnFamilyStore.java'), ('TableReader.java', 'UnfilteredRowIteratorWithLowerBound.java'), ('TableReader.java', 'SerializationHeader.java'), ('TableReader.java', 'Keyspace.java'), ('TableReader.java', 'LifecycleTransaction.java'), ('TableReader.java', 'LogFile.java'), ('TableReader.java', 'Tracker.java'), ('TableReader.java', 'CompactionManager.java'), ('TableReader.java', 'AbstractCompactionStrategy.java'), ('TableReader.java', 'LeveledCompactionStrategy.java'), ('TableReader.java', 'CompactionController.java'), ('TableReader.java', 'Scrubber.java'), ('TableReader.java', 'CompactionAwareWriter.java'), ('TableReader.java', 'TimeWindowCompactionStrategy.java'), ('TableReader.java', 'CompactionIterator.java'), ('TableReader.java', 'CompactionTask.java'), ('TableReader.java', 'DateTieredCompactionStrategy.java'), ('TableReader.java', 'Verifier.java'), ('TableReader.java', 'PartitionRangeReadCommand.java'), ('TableReader.java', 'SinglePartitionReadCommand.java'), ('TableReader.java', 'CommitLogReplayer.java'), ('TableReader.java', 'SSTableIterator.java'), ('TableReader.java', 'AbstractSSTableIterator.java'), ('TableReader.java', 'SSTableReversedIterator.java'), ('TableReader.java', 'StandaloneScrubber.java'), ('TableReader.java', 'SSTableExport.java'), ('TableReader.java', 'StandaloneUpgrader.java'), ('TableReader.java', 'SASIIndex.java'), ('TableReader.java', 'SASIIndexBuilder.java'), ('TableReader.java', 'DataTracker.java'), ('TableReader.java', 'ColumnIndex.java'), ('TableReader.java', 'SSTableIndex.java'), ('TableReader.java', 'SecondaryIndexManager.java'), ('TableReader.java', 'Index.java'), ('TableReader.java', 'TableMetrics.java'), ('DataResolver.java', 'ColumnFamilyStore.java'), ('DataResolver.java', 'DatabaseDescriptor.java'), ('MemtablePool.java', 'ColumnFamilyStore.java'), ('HintVerbHandler.java', 'StorageService.java'), ('HintVerbHandler.java', 'StorageProxy.java'), ('ResultSet.java', 'SelectStatement.java'), ('SSTableRewriter.java', 'ColumnFamilyStore.java'), ('StorageService.java', 'HintsReader.java'), ('StorageService.java', 'HintsDispatchExecutor.java'), ('StorageService.java', 'HintsStore.java'), ('StorageService.java', 'HintsService.java'), ('StorageService.java', 'Gossiper.java'), ('StorageService.java', 'ColumnFamilyStore.java'), ('StorageService.java', 'SizeEstimatesRecorder.java'), ('StorageService.java', 'DiskBoundaries.java'), ('StorageService.java', 'CompactionManager.java'), ('StorageService.java', 'Verifier.java'), ('StorageService.java', 'CommitLog.java'), ('StorageService.java', 'SystemKeyspace.java'), ('StorageService.java', 'JVMStabilityInspector.java'), ('StorageService.java', 'TokenMetadata.java'), ('StorageService.java', 'Message.java'), ('StorageService.java', 'AlterTableStatement.java'), ('StorageService.java', 'ByteOrderedPartitioner.java'), ('StorageService.java', 'BootStrapper.java'), ('StorageService.java', 'CassandraRoleManager.java'), ('StorageService.java', 'RepairRunnable.java'), ('StorageService.java', 'MigrationCoordinator.java'), ('StorageService.java', 'DatabaseDescriptor.java'), ('StorageService.java', 'MessagingService.java'), ('MessagingService.java', 'Gossiper.java'), ('MessagingService.java', 'ColumnFilter.java'), ('MessagingService.java', 'CommitLog.java'), ('MessagingService.java', 'SystemKeyspace.java'), ('MessagingService.java', 'EchoVerbHandler.java'), ('MessagingService.java', 'StorageProxy.java'), ('MessagingService.java', 'ActiveRepairService.java'), ('MessagingService.java', 'QueryProcessor.java'), ('CompactionTask.java', 'ColumnFamilyStore.java'), ('CompactionTask.java', 'DatabaseDescriptor.java'), ('TimeWindowCompactionStrategy.java', 'ColumnFamilyStore.java'), ('StartupMessage.java', 'DatabaseDescriptor.java'), ('SSTableTxnWriter.java', 'ColumnFamilyStore.java'), ('StreamReceiveTask.java', 'ColumnFamilyStore.java'), ('PasswordAuthenticator.java', 'DatabaseDescriptor.java'), ('PasswordAuthenticator.java', 'SelectStatement.java'), ('CompactionStrategyManager.java', 'ColumnFamilyStore.java'), ('CompactionStrategyManager.java', 'DatabaseDescriptor.java'), ('ColumnFamilyStore.java', 'IndexSummaryRedistribution.java'), ('ColumnFamilyStore.java', 'IndexSummaryManager.java'), ('ColumnFamilyStore.java', 'LifecycleTransaction.java'), ('ColumnFamilyStore.java', 'Tracker.java'), ('ColumnFamilyStore.java', 'CompactionLogger.java'), ('ColumnFamilyStore.java', 'AbstractCompactionStrategy.java'), ('ColumnFamilyStore.java', 'LeveledCompactionStrategy.java'), ('ColumnFamilyStore.java', 'MajorLeveledCompactionWriter.java'), ('ColumnFamilyStore.java', 'MaxSSTableSizeWriter.java'), ('ColumnFamilyStore.java', 'CompactionAwareWriter.java'), ('ColumnFamilyStore.java', 'DefaultCompactionWriter.java'), ('ColumnFamilyStore.java', 'Upgrader.java'), ('ColumnFamilyStore.java', 'DateTieredCompactionStrategy.java'), ('ColumnFamilyStore.java', 'CommitLogReplayer.java'), ('ColumnFamilyStore.java', 'StorageProxy.java'), ('ColumnFamilyStore.java', 'CassandraDaemon.java'), ('ColumnFamilyStore.java', 'StartupChecks.java'), ('ColumnFamilyStore.java', 'HeapPool.java'), ('ColumnFamilyStore.java', 'SlabPool.java'), ('ColumnFamilyStore.java', 'NativePool.java'), ('ColumnFamilyStore.java', 'StandaloneScrubber.java'), ('ColumnFamilyStore.java', 'StandaloneUpgrader.java'), ('ColumnFamilyStore.java', 'SASIIndexBuilder.java'), ('ColumnFamilyStore.java', 'TableMetrics.java'), ('ColumnFamilyStore.java', 'StreamSession.java'), ('ColumnFamilyStore.java', 'RepairJob.java'), ('ColumnFamilyStore.java', 'RepairMessageVerbHandler.java'), ('ColumnFamilyStore.java', 'RepairRunnable.java'), ('ColumnFamilyStore.java', 'AutoSavingCache.java'), ('ColumnFamilyStore.java', 'DatabaseDescriptor.java'), ('ColumnFamilyStore.java', 'CompactionManager.java'), ('DatabaseDescriptor.java', 'HintsWriter.java'), ('DatabaseDescriptor.java', 'HintsDescriptor.java'), ('DatabaseDescriptor.java', 'HintsWriteExecutor.java'), ('DatabaseDescriptor.java', 'HintsService.java'), ('DatabaseDescriptor.java', 'SSTableReader.java'), ('DatabaseDescriptor.java', 'IndexSummaryManager.java'), ('DatabaseDescriptor.java', 'Gossiper.java'), ('DatabaseDescriptor.java', 'FailureDetector.java'), ('DatabaseDescriptor.java', 'Keyspace.java'), ('DatabaseDescriptor.java', 'Memtable.java'), ('DatabaseDescriptor.java', 'Tracker.java'), ('DatabaseDescriptor.java', 'CompactionManager.java'), ('DatabaseDescriptor.java', 'CompactionIterator.java'), ('DatabaseDescriptor.java', 'PartitionRangeReadCommand.java'), ('DatabaseDescriptor.java', 'SinglePartitionReadCommand.java'), ('DatabaseDescriptor.java', 'CommitLog.java'), ('DatabaseDescriptor.java', 'CommitLogReader.java'), ('DatabaseDescriptor.java', 'CommitLogReplayer.java'), ('DatabaseDescriptor.java', 'CommitLogSegmentManagerCDC.java'), ('DatabaseDescriptor.java', 'CommitLogArchiver.java'), ('DatabaseDescriptor.java', 'PeriodicCommitLogService.java'), ('DatabaseDescriptor.java', 'ColumnIndex.java'), ('DatabaseDescriptor.java', 'Mutation.java'), ('DatabaseDescriptor.java', 'SystemKeyspace.java'), ('DatabaseDescriptor.java', 'ClientState.java'), ('DatabaseDescriptor.java', 'StorageProxy.java'), ('DatabaseDescriptor.java', 'CassandraDaemon.java'), ('DatabaseDescriptor.java', 'StartupChecks.java'), ('DatabaseDescriptor.java', 'FBUtilities.java'), ('DatabaseDescriptor.java', 'JVMStabilityInspector.java'), ('DatabaseDescriptor.java', 'StandaloneScrubber.java'), ('DatabaseDescriptor.java', 'Util.java'), ('DatabaseDescriptor.java', 'BulkLoader.java'), ('DatabaseDescriptor.java', 'SSTableExport.java'), ('DatabaseDescriptor.java', 'StandaloneUpgrader.java'), ('DatabaseDescriptor.java', 'QueryProcessor.java'), ('DatabaseDescriptor.java', 'BatchStatement.java'), ('DatabaseDescriptor.java', 'AlterTableStatement.java'), ('DatabaseDescriptor.java', 'CreateIndexStatement.java'), ('DatabaseDescriptor.java', 'CreateViewStatement.java'), ('DatabaseDescriptor.java', 'QueryOptions.java'), ('DatabaseDescriptor.java', 'TermIterator.java'), ('DatabaseDescriptor.java', 'SecondaryIndexManager.java'), ('DatabaseDescriptor.java', 'Message.java'), ('DatabaseDescriptor.java', 'StreamSession.java'), ('DatabaseDescriptor.java', 'CassandraRoleManager.java'), ('DatabaseDescriptor.java', 'RolesCache.java'), ('DatabaseDescriptor.java', 'RepairOption.java'), ('DatabaseDescriptor.java', 'RepairSession.java'), ('DatabaseDescriptor.java', 'RepairJob.java'), ('DatabaseDescriptor.java', 'RepairRunnable.java'), ('DatabaseDescriptor.java', 'AutoSavingCache.java'), ('RepairRunnable.java', 'SelectStatement.java'), ('NodeProbe.java', 'Compact.java'), ('NodeProbe.java', 'NetStats.java'), ('NodeProbe.java', 'TableStats.java'), ('HintsService.java', 'StorageProxy.java'), ('CompactionMetrics.java', 'CompactionManager.java'), ('AbstractReadExecutor.java', 'SinglePartitionReadCommand.java'), ('IndexSummaryManager.java', 'CompactionManager.java'), ('StandaloneScrubber.java', 'CompactionManager.java'), ('ActiveRepairService.java', 'CompactionManager.java'), ('ModificationStatement.java', 'StorageProxy.java'), ('AutoSavingCache.java', 'CompactionManager.java'), ('TableViews.java', 'StorageProxy.java'), ('SelectStatement.java', 'StorageProxy.java'), ('SelectStatement.java', 'CassandraRoleManager.java'), ('ReplicaFilteringProtection.java', 'SinglePartitionReadCommand.java'), ('PartitionRangeReadCommand.java', 'StorageProxy.java'), ('StorageProxy.java', 'TraceStateImpl.java'), ('StorageProxy.java', 'SinglePartitionReadCommand.java')]\n"
          ]
        }
      ]
    },
    {
      "cell_type": "markdown",
      "source": [
        "## 2. Posiciona as arestas"
      ],
      "metadata": {
        "id": "dJfhzI2bUHAy"
      }
    },
    {
      "cell_type": "code",
      "source": [
        "edge_x, edge_y = define_edges_x_y(G)\n",
        "\n",
        "print(f'edge_x: {edge_x}')\n",
        "print(f'edge_y: {edge_y}')"
      ],
      "metadata": {
        "id": "DsA3oc73OW2e",
        "colab": {
          "base_uri": "https://localhost:8080/"
        },
        "outputId": "79448874-f565-4d95-ab87-0c2bd31fddf8"
      },
      "execution_count": 132,
      "outputs": [
        {
          "output_type": "stream",
          "name": "stdout",
          "text": [
            "edge_x: [0.2171651033794323, 0.24186960090463616, None, 0.2171651033794323, 0.5153152803621383, None, 0.2171651033794323, 0.5283081510152977, None, 0.2171651033794323, 0.525467036954507, None, 0.2171651033794323, 0.011274995716791136, None, 0.2171651033794323, 0.8561898650600402, None, 0.2171651033794323, 0.7448930137033467, None, 0.2171651033794323, 0.2757398695852029, None, 0.2171651033794323, 0.16838852353877565, None, 0.2171651033794323, 0.7879555408510256, None, 0.2171651033794323, 0.26845545073810406, None, 0.2171651033794323, 0.842132831120154, None, 0.2171651033794323, 0.15724472822791558, None, 0.2171651033794323, 0.6655582805276847, None, 0.2171651033794323, 0.637963870395912, None, 0.2171651033794323, 0.10642747813060927, None, 0.2171651033794323, 0.9958183074484047, None, 0.2171651033794323, 0.06831976674370877, None, 0.2171651033794323, 0.8077496043290886, None, 0.2171651033794323, 0.7760124871661758, None, 0.2171651033794323, 0.6263462212312872, None, 0.2171651033794323, 0.7493344917556849, None, 0.2171651033794323, 0.7650509142026312, None, 0.2171651033794323, 0.22427150762418047, None, 0.2171651033794323, 0.14346172559230386, None, 0.2171651033794323, 0.48342450538517057, None, 0.2171651033794323, 0.6988614554878702, None, 0.2171651033794323, 0.7885561251037735, None, 0.2171651033794323, 0.7186782976928059, None, 0.2171651033794323, 0.6022209119234581, None, 0.2171651033794323, 0.10916247191136375, None, 0.2171651033794323, 0.7469174188662728, None, 0.2171651033794323, 0.48668649639742423, None, 0.2171651033794323, 0.6316639509828331, None, 0.2171651033794323, 0.4784873195450753, None, 0.2171651033794323, 0.520730057778061, None, 0.2171651033794323, 0.8487506710702724, None, 0.2171651033794323, 0.021397466983457458, None, 0.2171651033794323, 0.5802928055879412, None, 0.2171651033794323, 0.49994853855280685, None, 0.22167632199938347, 0.8561898650600402, None, 0.22167632199938347, 0.4549191953854096, None, 0.864598746550414, 0.8561898650600402, None, 0.5297491526266863, 0.3512774989889481, None, 0.5297491526266863, 0.889527064326721, None, 0.6097467880517455, 0.9193747826109875, None, 0.5283081510152977, 0.8561898650600402, None, 0.3512774989889481, 0.3849778391231068, None, 0.3512774989889481, 0.7428011313883286, None, 0.3512774989889481, 0.43604181269905706, None, 0.3512774989889481, 0.28985367977283116, None, 0.3512774989889481, 0.9425239774434225, None, 0.3512774989889481, 0.8561898650600402, None, 0.3512774989889481, 0.228232825485841, None, 0.3512774989889481, 0.3294311087252203, None, 0.3512774989889481, 0.15724472822791558, None, 0.3512774989889481, 0.7650509142026312, None, 0.3512774989889481, 0.8678781672676447, None, 0.3512774989889481, 0.8470579182360951, None, 0.3512774989889481, 0.17822090790815037, None, 0.3512774989889481, 0.09108757720823357, None, 0.3512774989889481, 0.45488612186235533, None, 0.3512774989889481, 0.8173539332754319, None, 0.3512774989889481, 0.3313054125124809, None, 0.3512774989889481, 0.8648369220648555, None, 0.3512774989889481, 0.7981644367390032, None, 0.3512774989889481, 0.5324674020469994, None, 0.3512774989889481, 0.4039822050983741, None, 0.3512774989889481, 0.4549191953854096, None, 0.3512774989889481, 0.5403332857090716, None, 0.5403332857090716, 0.9425239774434225, None, 0.5403332857090716, 0.36970301436266284, None, 0.5403332857090716, 0.8678781672676447, None, 0.5403332857090716, 0.8470579182360951, None, 0.5403332857090716, 0.12632402450686597, None, 0.5403332857090716, 0.889527064326721, None, 0.5403332857090716, 0.028354895536068403, None, 0.5403332857090716, 0.9738781051340863, None, 0.6263462212312872, 0.8561898650600402, None, 0.6263462212312872, 0.4549191953854096, None, 0.8077496043290886, 0.8561898650600402, None, 0.13925757077169765, 0.4549191953854096, None, 0.3299839421124702, 0.8561898650600402, None, 0.5661158431538111, 0.8561898650600402, None, 0.2630105983934927, 0.4549191953854096, None, 0.2630105983934927, 0.9193747826109875, None, 0.95502362712654, 0.8561898650600402, None, 0.95502362712654, 0.4549191953854096, None, 0.8561898650600402, 0.525467036954507, None, 0.8561898650600402, 0.011274995716791136, None, 0.8561898650600402, 0.7879555408510256, None, 0.8561898650600402, 0.842132831120154, None, 0.8561898650600402, 0.022535615489670424, None, 0.8561898650600402, 0.6655582805276847, None, 0.8561898650600402, 0.637963870395912, None, 0.8561898650600402, 0.14095484249863877, None, 0.8561898650600402, 0.178850671241358, None, 0.8561898650600402, 0.06831976674370877, None, 0.8561898650600402, 0.5188907167945026, None, 0.8561898650600402, 0.14830548413370703, None, 0.8561898650600402, 0.7493344917556849, None, 0.8561898650600402, 0.48342450538517057, None, 0.8561898650600402, 0.889527064326721, None, 0.8561898650600402, 0.5757514267589381, None, 0.8561898650600402, 0.31057283992673357, None, 0.8561898650600402, 0.93080499394126, None, 0.8561898650600402, 0.9842980976923432, None, 0.8561898650600402, 0.7912167076206824, None, 0.8561898650600402, 0.6022209119234581, None, 0.8561898650600402, 0.7469174188662728, None, 0.8561898650600402, 0.6316639509828331, None, 0.8561898650600402, 0.49994853855280685, None, 0.8561898650600402, 0.0030180848443861485, None, 0.8561898650600402, 0.3353411533429198, None, 0.8561898650600402, 0.28306204180368977, None, 0.8561898650600402, 0.5324674020469994, None, 0.8561898650600402, 0.6804549656006104, None, 0.8561898650600402, 0.4549191953854096, None, 0.8561898650600402, 0.15724472822791558, None, 0.4549191953854096, 0.7817455042130848, None, 0.4549191953854096, 0.7443650776888182, None, 0.4549191953854096, 0.44712743165658164, None, 0.4549191953854096, 0.28985367977283116, None, 0.4549191953854096, 0.659942787436246, None, 0.4549191953854096, 0.011274995716791136, None, 0.4549191953854096, 0.9425239774434225, None, 0.4549191953854096, 0.7615143585510701, None, 0.4549191953854096, 0.16838852353877565, None, 0.4549191953854096, 0.6817234584464053, None, 0.4549191953854096, 0.842132831120154, None, 0.4549191953854096, 0.15724472822791558, None, 0.4549191953854096, 0.7760124871661758, None, 0.4549191953854096, 0.22427150762418047, None, 0.4549191953854096, 0.14346172559230386, None, 0.4549191953854096, 0.8678781672676447, None, 0.4549191953854096, 0.8423297081801043, None, 0.4549191953854096, 0.48342450538517057, None, 0.4549191953854096, 0.00852567302186813, None, 0.4549191953854096, 0.4681915790957948, None, 0.4549191953854096, 0.8967388306799398, None, 0.4549191953854096, 0.520730057778061, None, 0.4549191953854096, 0.1207512643520624, None, 0.4549191953854096, 0.8470579182360951, None, 0.4549191953854096, 0.9635825567775704, None, 0.4549191953854096, 0.889527064326721, None, 0.4549191953854096, 0.5757514267589381, None, 0.4549191953854096, 0.31057283992673357, None, 0.4549191953854096, 0.6363280403502509, None, 0.4549191953854096, 0.17822090790815037, None, 0.4549191953854096, 0.6022209119234581, None, 0.4549191953854096, 0.524628081492078, None, 0.4549191953854096, 0.9874542563665858, None, 0.4549191953854096, 0.10916247191136375, None, 0.4549191953854096, 0.7469174188662728, None, 0.4549191953854096, 0.9738781051340863, None, 0.4549191953854096, 0.4743829204587825, None, 0.4549191953854096, 0.8173539332754319, None, 0.4549191953854096, 0.9583674495244306, None, 0.4549191953854096, 0.7509696720627483, None, 0.4549191953854096, 0.9187764478838352, None, 0.4549191953854096, 0.9160403972848614, None, 0.4549191953854096, 0.021397466983457458, None, 0.4549191953854096, 0.45488612186235533, None, 0.4549191953854096, 0.0030180848443861485, None, 0.4549191953854096, 0.7981644367390032, None, 0.4549191953854096, 0.5594277967880394, None, 0.4549191953854096, 0.45497765789974165, None, 0.4549191953854096, 0.0773385747016535, None, 0.4549191953854096, 0.3353411533429198, None, 0.4549191953854096, 0.5324674020469994, None, 0.4549191953854096, 0.6804549656006104, None, 0.5324674020469994, 0.9193747826109875, None, 0.12026323355859192, 0.7949381402467981, None, 0.12026323355859192, 0.1508091472561266, None, 0.12026323355859192, 0.4435341514542681, None, 0.28985367977283116, 0.889527064326721, None, 0.07523859616485773, 0.15724472822791558, None, 0.13386851090944196, 0.14346172559230386, None, 0.011274995716791136, 0.15724472822791558, None, 0.6022209119234581, 0.15724472822791558, None, 0.028354895536068403, 0.15724472822791558, None, 0.3513443847502914, 0.889527064326721, None, 0.6804549656006104, 0.15724472822791558, None, 0.49225675347988174, 0.889527064326721, None, 0.9193747826109875, 0.889527064326721, None, 0.9193747826109875, 0.7981644367390032, None, 0.5444081056732588, 0.14346172559230386, None, 0.22427150762418047, 0.889527064326721, None, 0.889527064326721, 0.05857108981405612, None, 0.889527064326721, 0.14346172559230386, None]\n",
            "edge_y: [0.6267240726597808, 0.1786465369073963, None, 0.6267240726597808, 0.34702152644980133, None, 0.6267240726597808, 0.21300819624663014, None, 0.6267240726597808, 0.8602854591338054, None, 0.6267240726597808, 0.655380075289459, None, 0.6267240726597808, 0.6741763229318918, None, 0.6267240726597808, 0.14359632985149606, None, 0.6267240726597808, 0.40391456181304286, None, 0.6267240726597808, 0.40786358966229785, None, 0.6267240726597808, 0.18104652346085315, None, 0.6267240726597808, 0.7985587526397768, None, 0.6267240726597808, 0.23952570170824294, None, 0.6267240726597808, 0.21430715801971667, None, 0.6267240726597808, 0.8263774719761157, None, 0.6267240726597808, 0.8866237798019413, None, 0.6267240726597808, 0.8190952783807074, None, 0.6267240726597808, 0.48212607528784324, None, 0.6267240726597808, 0.7511332916344551, None, 0.6267240726597808, 0.20141206579872273, None, 0.6267240726597808, 0.21285977115578736, None, 0.6267240726597808, 0.929420722206437, None, 0.6267240726597808, 0.14011527221616282, None, 0.6267240726597808, 0.7634103478298925, None, 0.6267240726597808, 0.2950210610659396, None, 0.6267240726597808, 0.45675132211686353, None, 0.6267240726597808, 0.1744603742189771, None, 0.6267240726597808, 0.10542551800641187, None, 0.6267240726597808, 0.8631415309467166, None, 0.6267240726597808, 0.5326427476758746, None, 0.6267240726597808, 0.30536430660788805, None, 0.6267240726597808, 0.11401711178302898, None, 0.6267240726597808, 0.4193859529159777, None, 0.6267240726597808, 0.8037466072321234, None, 0.6267240726597808, 0.8707550752295066, None, 0.6267240726597808, 0.791725320986031, None, 0.6267240726597808, 0.7766332811571818, None, 0.6267240726597808, 0.9759067451468221, None, 0.6267240726597808, 0.051143446935779435, None, 0.6267240726597808, 0.6450151526615024, None, 0.6267240726597808, 0.7630181038981892, None, 0.45564429589952415, 0.6741763229318918, None, 0.45564429589952415, 0.43847501489599006, None, 0.1740301094601664, 0.6741763229318918, None, 0.05038013471086822, 0.051810165039833156, None, 0.05038013471086822, 0.19988165893908183, None, 0.5774214683991326, 0.10751226409502268, None, 0.21300819624663014, 0.6741763229318918, None, 0.051810165039833156, 0.05852050659861885, None, 0.051810165039833156, 0.8981932003270313, None, 0.051810165039833156, 0.9193157390495474, None, 0.051810165039833156, 0.38953876819929356, None, 0.051810165039833156, 0.12875866590103136, None, 0.051810165039833156, 0.6741763229318918, None, 0.051810165039833156, 0.7014740748550834, None, 0.051810165039833156, 0.13850140419792412, None, 0.051810165039833156, 0.21430715801971667, None, 0.051810165039833156, 0.7634103478298925, None, 0.051810165039833156, 0.10706828324280682, None, 0.051810165039833156, 0.7192628752516671, None, 0.051810165039833156, 0.7069467187113403, None, 0.051810165039833156, 0.13997620117760778, None, 0.051810165039833156, 0.48916157517154457, None, 0.051810165039833156, 0.5081846449574673, None, 0.051810165039833156, 0.3500998054884079, None, 0.051810165039833156, 0.4294900949703031, None, 0.051810165039833156, 0.7561468306374481, None, 0.051810165039833156, 0.5702163317281282, None, 0.051810165039833156, 0.01033624582619408, None, 0.051810165039833156, 0.43847501489599006, None, 0.051810165039833156, 0.7953770612135799, None, 0.7953770612135799, 0.12875866590103136, None, 0.7953770612135799, 0.8148275391754682, None, 0.7953770612135799, 0.10706828324280682, None, 0.7953770612135799, 0.7192628752516671, None, 0.7953770612135799, 0.6618585916119277, None, 0.7953770612135799, 0.19988165893908183, None, 0.7953770612135799, 0.05960861752899549, None, 0.7953770612135799, 0.15778921235575394, None, 0.929420722206437, 0.6741763229318918, None, 0.929420722206437, 0.43847501489599006, None, 0.20141206579872273, 0.6741763229318918, None, 0.256948088389896, 0.43847501489599006, None, 0.07141926526377373, 0.6741763229318918, None, 0.40216830597008046, 0.6741763229318918, None, 0.4407254501986979, 0.43847501489599006, None, 0.4407254501986979, 0.10751226409502268, None, 0.29129268853607726, 0.6741763229318918, None, 0.29129268853607726, 0.43847501489599006, None, 0.6741763229318918, 0.8602854591338054, None, 0.6741763229318918, 0.655380075289459, None, 0.6741763229318918, 0.18104652346085315, None, 0.6741763229318918, 0.23952570170824294, None, 0.6741763229318918, 0.7280446015206896, None, 0.6741763229318918, 0.8263774719761157, None, 0.6741763229318918, 0.8866237798019413, None, 0.6741763229318918, 0.923649248308386, None, 0.6741763229318918, 0.5722487476956525, None, 0.6741763229318918, 0.7511332916344551, None, 0.6741763229318918, 0.9047370198165338, None, 0.6741763229318918, 0.2251760788013334, None, 0.6741763229318918, 0.14011527221616282, None, 0.6741763229318918, 0.1744603742189771, None, 0.6741763229318918, 0.19988165893908183, None, 0.6741763229318918, 0.19357258743379913, None, 0.6741763229318918, 0.8274253558723058, None, 0.6741763229318918, 0.061913981513040395, None, 0.6741763229318918, 0.8774056777504161, None, 0.6741763229318918, 0.6079767592217843, None, 0.6741763229318918, 0.30536430660788805, None, 0.6741763229318918, 0.4193859529159777, None, 0.6741763229318918, 0.8707550752295066, None, 0.6741763229318918, 0.7630181038981892, None, 0.6741763229318918, 0.5993534916466081, None, 0.6741763229318918, 0.2755553060106851, None, 0.6741763229318918, 0.05861958389223376, None, 0.6741763229318918, 0.5702163317281282, None, 0.6741763229318918, 0.10969899915199732, None, 0.6741763229318918, 0.43847501489599006, None, 0.6741763229318918, 0.21430715801971667, None, 0.43847501489599006, 0.28934258473387464, None, 0.43847501489599006, 0.032135537957876825, None, 0.43847501489599006, 0.5488593547033539, None, 0.43847501489599006, 0.38953876819929356, None, 0.43847501489599006, 0.49815342488120506, None, 0.43847501489599006, 0.655380075289459, None, 0.43847501489599006, 0.12875866590103136, None, 0.43847501489599006, 0.4488639397678933, None, 0.43847501489599006, 0.40786358966229785, None, 0.43847501489599006, 0.7826561544920319, None, 0.43847501489599006, 0.23952570170824294, None, 0.43847501489599006, 0.21430715801971667, None, 0.43847501489599006, 0.21285977115578736, None, 0.43847501489599006, 0.2950210610659396, None, 0.43847501489599006, 0.45675132211686353, None, 0.43847501489599006, 0.10706828324280682, None, 0.43847501489599006, 0.8742545490663861, None, 0.43847501489599006, 0.1744603742189771, None, 0.43847501489599006, 0.10091411991689292, None, 0.43847501489599006, 0.8968708179515668, None, 0.43847501489599006, 0.8070170346295714, None, 0.43847501489599006, 0.7766332811571818, None, 0.43847501489599006, 0.8651764264813936, None, 0.43847501489599006, 0.7192628752516671, None, 0.43847501489599006, 0.9832826149732757, None, 0.43847501489599006, 0.19988165893908183, None, 0.43847501489599006, 0.19357258743379913, None, 0.43847501489599006, 0.8274253558723058, None, 0.43847501489599006, 0.22643185085133022, None, 0.43847501489599006, 0.7069467187113403, None, 0.43847501489599006, 0.30536430660788805, None, 0.43847501489599006, 0.09297493427768755, None, 0.43847501489599006, 0.6436783354834841, None, 0.43847501489599006, 0.11401711178302898, None, 0.43847501489599006, 0.4193859529159777, None, 0.43847501489599006, 0.15778921235575394, None, 0.43847501489599006, 0.7475819601467246, None, 0.43847501489599006, 0.5081846449574673, None, 0.43847501489599006, 0.44885218331302756, None, 0.43847501489599006, 0.23912414539976445, None, 0.43847501489599006, 0.7990165338295819, None, 0.43847501489599006, 0.6600577070290605, None, 0.43847501489599006, 0.051143446935779435, None, 0.43847501489599006, 0.48916157517154457, None, 0.43847501489599006, 0.5993534916466081, None, 0.43847501489599006, 0.7561468306374481, None, 0.43847501489599006, 0.730660760552697, None, 0.43847501489599006, 0.02599094287929249, None, 0.43847501489599006, 0.6050045704872926, None, 0.43847501489599006, 0.2755553060106851, None, 0.43847501489599006, 0.5702163317281282, None, 0.43847501489599006, 0.10969899915199732, None, 0.5702163317281282, 0.10751226409502268, None, 0.8982983005391307, 0.7543130089280717, None, 0.8982983005391307, 0.6581874630872699, None, 0.8982983005391307, 0.36004044245112143, None, 0.38953876819929356, 0.19988165893908183, None, 0.4949209957298415, 0.21430715801971667, None, 0.8501916875144627, 0.45675132211686353, None, 0.655380075289459, 0.21430715801971667, None, 0.30536430660788805, 0.21430715801971667, None, 0.05960861752899549, 0.21430715801971667, None, 0.4676122926620808, 0.19988165893908183, None, 0.10969899915199732, 0.21430715801971667, None, 0.09755967768595364, 0.19988165893908183, None, 0.10751226409502268, 0.19988165893908183, None, 0.10751226409502268, 0.7561468306374481, None, 0.885122847917908, 0.45675132211686353, None, 0.2950210610659396, 0.19988165893908183, None, 0.19988165893908183, 0.8171743356834588, None, 0.19988165893908183, 0.45675132211686353, None]\n"
          ]
        }
      ]
    },
    {
      "cell_type": "code",
      "source": [
        "edge_trace = define_edge_trace(edge_x, edge_y)"
      ],
      "metadata": {
        "id": "RlI6HS6aQe-F"
      },
      "execution_count": 133,
      "outputs": []
    },
    {
      "cell_type": "markdown",
      "source": [
        "## 3. Cria a lista de nós com seus posicionamentos (x,y)"
      ],
      "metadata": {
        "id": "45GFWlksUWYy"
      }
    },
    {
      "cell_type": "code",
      "source": [
        "node_x, node_y = generate_nodes_x_y(G)\n",
        "\n",
        "print(f'node_x: {node_x}')\n",
        "print(f'node_y: {node_y}')"
      ],
      "metadata": {
        "id": "BOqup7bMQiVZ",
        "colab": {
          "base_uri": "https://localhost:8080/"
        },
        "outputId": "0a8f611f-7efc-4bfa-c314-75c8da9beb32"
      },
      "execution_count": 134,
      "outputs": [
        {
          "output_type": "stream",
          "name": "stdout",
          "text": [
            "node_x: [0.2171651033794323, 0.22167632199938347, 0.864598746550414, 0.5297491526266863, 0.6097467880517455, 0.5283081510152977, 0.2757398695852029, 0.3512774989889481, 0.5403332857090716, 0.4039822050983741, 0.6263462212312872, 0.8077496043290886, 0.13925757077169765, 0.3299839421124702, 0.5661158431538111, 0.2630105983934927, 0.95502362712654, 0.8561898650600402, 0.9958183074484047, 0.4549191953854096, 0.45497765789974165, 0.26845545073810406, 0.8423297081801043, 0.5324674020469994, 0.48668649639742423, 0.7428011313883286, 0.0030180848443861485, 0.6363280403502509, 0.12026323355859192, 0.3313054125124809, 0.28306204180368977, 0.5153152803621383, 0.7760124871661758, 0.8470579182360951, 0.5594277967880394, 0.28985367977283116, 0.021397466983457458, 0.06831976674370877, 0.7949381402467981, 0.1207512643520624, 0.6988614554878702, 0.07523859616485773, 0.5802928055879412, 0.7817455042130848, 0.520730057778061, 0.7885561251037735, 0.13386851090944196, 0.31057283992673357, 0.7469174188662728, 0.5757514267589381, 0.6316639509828331, 0.4435341514542681, 0.6817234584464053, 0.7448930137033467, 0.17822090790815037, 0.45488612186235533, 0.7615143585510701, 0.12632402450686597, 0.36970301436266284, 0.4681915790957948, 0.14095484249863877, 0.9583674495244306, 0.525467036954507, 0.00852567302186813, 0.842132831120154, 0.011274995716791136, 0.7443650776888182, 0.9842980976923432, 0.6022209119234581, 0.028354895536068403, 0.9160403972848614, 0.3513443847502914, 0.6804549656006104, 0.24186960090463616, 0.022535615489670424, 0.49225675347988174, 0.228232825485841, 0.8487506710702724, 0.5188907167945026, 0.178850671241358, 0.7509696720627483, 0.9193747826109875, 0.4743829204587825, 0.7879555408510256, 0.5444081056732588, 0.16838852353877565, 0.4784873195450753, 0.7186782976928059, 0.22427150762418047, 0.09108757720823357, 0.6655582805276847, 0.1508091472561266, 0.44712743165658164, 0.889527064326721, 0.659942787436246, 0.8648369220648555, 0.7981644367390032, 0.8678781672676447, 0.48342450538517057, 0.43604181269905706, 0.8173539332754319, 0.93080499394126, 0.524628081492078, 0.10642747813060927, 0.15724472822791558, 0.9635825567775704, 0.3849778391231068, 0.14346172559230386, 0.7493344917556849, 0.9187764478838352, 0.9425239774434225, 0.7912167076206824, 0.8967388306799398, 0.49994853855280685, 0.9738781051340863, 0.637963870395912, 0.9874542563665858, 0.10916247191136375, 0.3294311087252203, 0.14830548413370703, 0.05857108981405612, 0.7650509142026312, 0.0773385747016535, 0.3353411533429198]\n",
            "node_y: [0.6267240726597808, 0.45564429589952415, 0.1740301094601664, 0.05038013471086822, 0.5774214683991326, 0.21300819624663014, 0.40391456181304286, 0.051810165039833156, 0.7953770612135799, 0.01033624582619408, 0.929420722206437, 0.20141206579872273, 0.256948088389896, 0.07141926526377373, 0.40216830597008046, 0.4407254501986979, 0.29129268853607726, 0.6741763229318918, 0.48212607528784324, 0.43847501489599006, 0.02599094287929249, 0.7985587526397768, 0.8742545490663861, 0.5702163317281282, 0.8037466072321234, 0.8981932003270313, 0.5993534916466081, 0.22643185085133022, 0.8982983005391307, 0.3500998054884079, 0.05861958389223376, 0.34702152644980133, 0.21285977115578736, 0.7192628752516671, 0.730660760552697, 0.38953876819929356, 0.051143446935779435, 0.7511332916344551, 0.7543130089280717, 0.8651764264813936, 0.10542551800641187, 0.4949209957298415, 0.6450151526615024, 0.28934258473387464, 0.7766332811571818, 0.8631415309467166, 0.8501916875144627, 0.8274253558723058, 0.4193859529159777, 0.19357258743379913, 0.8707550752295066, 0.36004044245112143, 0.7826561544920319, 0.14359632985149606, 0.7069467187113403, 0.48916157517154457, 0.4488639397678933, 0.6618585916119277, 0.8148275391754682, 0.8968708179515668, 0.923649248308386, 0.44885218331302756, 0.8602854591338054, 0.10091411991689292, 0.23952570170824294, 0.655380075289459, 0.032135537957876825, 0.8774056777504161, 0.30536430660788805, 0.05960861752899549, 0.6600577070290605, 0.4676122926620808, 0.10969899915199732, 0.1786465369073963, 0.7280446015206896, 0.09755967768595364, 0.7014740748550834, 0.9759067451468221, 0.9047370198165338, 0.5722487476956525, 0.23912414539976445, 0.10751226409502268, 0.7475819601467246, 0.18104652346085315, 0.885122847917908, 0.40786358966229785, 0.791725320986031, 0.5326427476758746, 0.2950210610659396, 0.13997620117760778, 0.8263774719761157, 0.6581874630872699, 0.5488593547033539, 0.19988165893908183, 0.49815342488120506, 0.4294900949703031, 0.7561468306374481, 0.10706828324280682, 0.1744603742189771, 0.9193157390495474, 0.5081846449574673, 0.061913981513040395, 0.09297493427768755, 0.8190952783807074, 0.21430715801971667, 0.9832826149732757, 0.05852050659861885, 0.45675132211686353, 0.14011527221616282, 0.7990165338295819, 0.12875866590103136, 0.6079767592217843, 0.8070170346295714, 0.7630181038981892, 0.15778921235575394, 0.8866237798019413, 0.6436783354834841, 0.11401711178302898, 0.13850140419792412, 0.2251760788013334, 0.8171743356834588, 0.7634103478298925, 0.6050045704872926, 0.2755553060106851]\n"
          ]
        }
      ]
    },
    {
      "cell_type": "code",
      "source": [
        "node_trace = define_node_trace(node_x, node_y)"
      ],
      "metadata": {
        "id": "HULOBGK-QpiV"
      },
      "execution_count": 135,
      "outputs": []
    },
    {
      "cell_type": "markdown",
      "source": [
        "## 4. Cria a lista de nós adjacentes e seus posicionamentos (x,y)"
      ],
      "metadata": {
        "id": "hDKkLfbyUlem"
      }
    },
    {
      "cell_type": "code",
      "source": [
        "node_adjacencies = []\n",
        "node_text = []\n",
        "\n",
        "for node, adjacencies in enumerate(G.adjacency()):\n",
        "  list_of_connections = ','.join([str(item) for item in list(adjacencies[1].keys())])\n",
        "  node_adjacencies.append(len(adjacencies[1]))\n",
        "  node_text.append(adjacencies[0] + ' has ' + str(len(adjacencies[1])) + ' connections')"
      ],
      "metadata": {
        "id": "bL2u_TZmOcJU"
      },
      "execution_count": 163,
      "outputs": []
    },
    {
      "cell_type": "code",
      "source": [
        "print(f'node_adjacencies: {node_adjacencies}')\n",
        "print(f'node_text: {node_text}')"
      ],
      "metadata": {
        "colab": {
          "base_uri": "https://localhost:8080/"
        },
        "id": "oykAHSITS9KG",
        "outputId": "57eacccc-e0eb-425f-95e6-bc6353e11230"
      },
      "execution_count": 164,
      "outputs": [
        {
          "output_type": "stream",
          "name": "stdout",
          "text": [
            "node_adjacencies: [40, 2, 1, 2, 1, 2, 1, 24, 9, 1, 3, 2, 1, 1, 1, 2, 2, 41, 1, 59, 1, 1, 1, 4, 1, 1, 2, 1, 3, 1, 1, 1, 2, 3, 1, 3, 2, 2, 1, 1, 1, 1, 1, 1, 2, 1, 1, 2, 3, 2, 2, 1, 1, 1, 2, 2, 1, 1, 1, 1, 1, 1, 2, 1, 3, 4, 1, 1, 4, 2, 1, 1, 3, 1, 1, 1, 1, 1, 1, 1, 1, 5, 1, 2, 1, 2, 1, 1, 3, 1, 2, 1, 1, 11, 1, 1, 3, 3, 3, 1, 2, 1, 1, 1, 9, 1, 1, 5, 2, 1, 3, 1, 1, 2, 2, 2, 1, 2, 1, 1, 1, 2, 1, 2]\n",
            "node_text: ['TableReader.java has 40 connections', 'DataResolver.java has 2 connections', 'MemtablePool.java has 1 connections', 'HintVerbHandler.java has 2 connections', 'ResultSet.java has 1 connections', 'SSTableRewriter.java has 2 connections', 'SerializationHeader.java has 1 connections', 'StorageService.java has 24 connections', 'MessagingService.java has 9 connections', 'MigrationCoordinator.java has 1 connections', 'CompactionTask.java has 3 connections', 'TimeWindowCompactionStrategy.java has 2 connections', 'StartupMessage.java has 1 connections', 'SSTableTxnWriter.java has 1 connections', 'StreamReceiveTask.java has 1 connections', 'PasswordAuthenticator.java has 2 connections', 'CompactionStrategyManager.java has 2 connections', 'ColumnFamilyStore.java has 41 connections', 'Scrubber.java has 1 connections', 'DatabaseDescriptor.java has 59 connections', 'RepairOption.java has 1 connections', 'LogFile.java has 1 connections', 'CommitLogReader.java has 1 connections', 'RepairRunnable.java has 4 connections', 'SASIIndex.java has 1 connections', 'HintsDispatchExecutor.java has 1 connections', 'StreamSession.java has 2 connections', 'FBUtilities.java has 1 connections', 'NodeProbe.java has 3 connections', 'ByteOrderedPartitioner.java has 1 connections', 'RepairMessageVerbHandler.java has 1 connections', 'BigTableReader.java has 1 connections', 'CompactionIterator.java has 2 connections', 'SystemKeyspace.java has 3 connections', 'RolesCache.java has 1 connections', 'HintsService.java has 3 connections', 'SecondaryIndexManager.java has 2 connections', 'CompactionAwareWriter.java has 2 connections', 'Compact.java has 1 connections', 'Mutation.java has 1 connections', 'SSTableIterator.java has 1 connections', 'CompactionMetrics.java has 1 connections', 'Index.java has 1 connections', 'HintsWriter.java has 1 connections', 'ColumnIndex.java has 2 connections', 'AbstractSSTableIterator.java has 1 connections', 'AbstractReadExecutor.java has 1 connections', 'StartupChecks.java has 2 connections', 'StandaloneUpgrader.java has 3 connections', 'CassandraDaemon.java has 2 connections', 'SASIIndexBuilder.java has 2 connections', 'TableStats.java has 1 connections', 'Memtable.java has 1 connections', 'UnfilteredRowIteratorWithLowerBound.java has 1 connections', 'JVMStabilityInspector.java has 2 connections', 'Message.java has 2 connections', 'FailureDetector.java has 1 connections', 'EchoVerbHandler.java has 1 connections', 'ColumnFilter.java has 1 connections', 'CommitLogArchiver.java has 1 connections', 'MajorLeveledCompactionWriter.java has 1 connections', 'CreateIndexStatement.java has 1 connections', 'IndexSummaryRedistribution.java has 2 connections', 'CommitLogSegmentManagerCDC.java has 1 connections', 'Tracker.java has 3 connections', 'IndexSummaryManager.java has 4 connections', 'HintsDescriptor.java has 1 connections', 'SlabPool.java has 1 connections', 'StandaloneScrubber.java has 4 connections', 'ActiveRepairService.java has 2 connections', 'TermIterator.java has 1 connections', 'ModificationStatement.java has 1 connections', 'AutoSavingCache.java has 3 connections', 'BigTableScanner.java has 1 connections', 'CompactionLogger.java has 1 connections', 'TableViews.java has 1 connections', 'SizeEstimatesRecorder.java has 1 connections', 'SSTableIndex.java has 1 connections', 'DefaultCompactionWriter.java has 1 connections', 'MaxSSTableSizeWriter.java has 1 connections', 'CreateViewStatement.java has 1 connections', 'SelectStatement.java has 5 connections', 'BatchStatement.java has 1 connections', 'LifecycleTransaction.java has 2 connections', 'ReplicaFilteringProtection.java has 1 connections', 'Keyspace.java has 2 connections', 'DataTracker.java has 1 connections', 'SSTableReversedIterator.java has 1 connections', 'PartitionRangeReadCommand.java has 3 connections', 'TokenMetadata.java has 1 connections', 'AbstractCompactionStrategy.java has 2 connections', 'NetStats.java has 1 connections', 'HintsWriteExecutor.java has 1 connections', 'StorageProxy.java has 11 connections', 'SSTableReader.java has 1 connections', 'BootStrapper.java has 1 connections', 'CassandraRoleManager.java has 3 connections', 'CommitLog.java has 3 connections', 'CommitLogReplayer.java has 3 connections', 'HintsStore.java has 1 connections', 'AlterTableStatement.java has 2 connections', 'HeapPool.java has 1 connections', 'Util.java has 1 connections', 'CompactionController.java has 1 connections', 'CompactionManager.java has 9 connections', 'ClientState.java has 1 connections', 'HintsReader.java has 1 connections', 'SinglePartitionReadCommand.java has 5 connections', 'DateTieredCompactionStrategy.java has 2 connections', 'QueryOptions.java has 1 connections', 'Gossiper.java has 3 connections', 'NativePool.java has 1 connections', 'PeriodicCommitLogService.java has 1 connections', 'TableMetrics.java has 2 connections', 'QueryProcessor.java has 2 connections', 'LeveledCompactionStrategy.java has 2 connections', 'BulkLoader.java has 1 connections', 'SSTableExport.java has 2 connections', 'DiskBoundaries.java has 1 connections', 'Upgrader.java has 1 connections', 'TraceStateImpl.java has 1 connections', 'Verifier.java has 2 connections', 'RepairSession.java has 1 connections', 'RepairJob.java has 2 connections']\n"
          ]
        }
      ]
    },
    {
      "cell_type": "markdown",
      "source": [
        "## 5. Cria a figura do grafo contendo os nós, seus adjacentes e as conexões entre todos os nós"
      ],
      "metadata": {
        "id": "G590U2gRUz-f"
      }
    },
    {
      "cell_type": "code",
      "source": [
        "node_trace.marker.color = node_adjacencies\n",
        "node_trace.text = node_text"
      ],
      "metadata": {
        "id": "DjzNGn9HQydO"
      },
      "execution_count": 161,
      "outputs": []
    },
    {
      "cell_type": "code",
      "source": [
        "fig = go.Figure(data=[edge_trace, node_trace],\n",
        "             layout=go.Layout(\n",
        "                title='Network graph',\n",
        "                titlefont_size=16,\n",
        "                showlegend=False,\n",
        "                hovermode='closest',\n",
        "                margin=dict(b=20,l=5,r=5,t=40),\n",
        "                annotations=[ dict(text=\"Critical Files and Dependents with co-change\", showarrow=False, xref=\"paper\", yref=\"paper\",x=0.005, y=-0.002 ) ],\n",
        "                xaxis=dict(showgrid=False, zeroline=False, showticklabels=False),\n",
        "                yaxis=dict(showgrid=False, zeroline=False, showticklabels=False))\n",
        "                )\n",
        "fig.show()"
      ],
      "metadata": {
        "colab": {
          "base_uri": "https://localhost:8080/",
          "height": 542
        },
        "id": "QxRMIkCdOidT",
        "outputId": "7d280a6b-63d4-4e8e-92d1-5f410e5a8250"
      },
      "execution_count": 162,
      "outputs": [
        {
          "output_type": "display_data",
          "data": {
            "text/html": [
              "<html>\n",
              "<head><meta charset=\"utf-8\" /></head>\n",
              "<body>\n",
              "    <div>            <script src=\"https://cdnjs.cloudflare.com/ajax/libs/mathjax/2.7.5/MathJax.js?config=TeX-AMS-MML_SVG\"></script><script type=\"text/javascript\">if (window.MathJax) {MathJax.Hub.Config({SVG: {font: \"STIX-Web\"}});}</script>                <script type=\"text/javascript\">window.PlotlyConfig = {MathJaxConfig: 'local'};</script>\n",
              "        <script src=\"https://cdn.plot.ly/plotly-2.8.3.min.js\"></script>                <div id=\"ee962235-49a4-4efb-bcc0-9bab46acd574\" class=\"plotly-graph-div\" style=\"height:525px; width:100%;\"></div>            <script type=\"text/javascript\">                                    window.PLOTLYENV=window.PLOTLYENV || {};                                    if (document.getElementById(\"ee962235-49a4-4efb-bcc0-9bab46acd574\")) {                    Plotly.newPlot(                        \"ee962235-49a4-4efb-bcc0-9bab46acd574\",                        [{\"hoverinfo\":\"none\",\"line\":{\"color\":\"#888\",\"width\":0.5},\"mode\":\"lines\",\"x\":[0.2171651033794323,0.24186960090463616,null,0.2171651033794323,0.5153152803621383,null,0.2171651033794323,0.5283081510152977,null,0.2171651033794323,0.525467036954507,null,0.2171651033794323,0.011274995716791136,null,0.2171651033794323,0.8561898650600402,null,0.2171651033794323,0.7448930137033467,null,0.2171651033794323,0.2757398695852029,null,0.2171651033794323,0.16838852353877565,null,0.2171651033794323,0.7879555408510256,null,0.2171651033794323,0.26845545073810406,null,0.2171651033794323,0.842132831120154,null,0.2171651033794323,0.15724472822791558,null,0.2171651033794323,0.6655582805276847,null,0.2171651033794323,0.637963870395912,null,0.2171651033794323,0.10642747813060927,null,0.2171651033794323,0.9958183074484047,null,0.2171651033794323,0.06831976674370877,null,0.2171651033794323,0.8077496043290886,null,0.2171651033794323,0.7760124871661758,null,0.2171651033794323,0.6263462212312872,null,0.2171651033794323,0.7493344917556849,null,0.2171651033794323,0.7650509142026312,null,0.2171651033794323,0.22427150762418047,null,0.2171651033794323,0.14346172559230386,null,0.2171651033794323,0.48342450538517057,null,0.2171651033794323,0.6988614554878702,null,0.2171651033794323,0.7885561251037735,null,0.2171651033794323,0.7186782976928059,null,0.2171651033794323,0.6022209119234581,null,0.2171651033794323,0.10916247191136375,null,0.2171651033794323,0.7469174188662728,null,0.2171651033794323,0.48668649639742423,null,0.2171651033794323,0.6316639509828331,null,0.2171651033794323,0.4784873195450753,null,0.2171651033794323,0.520730057778061,null,0.2171651033794323,0.8487506710702724,null,0.2171651033794323,0.021397466983457458,null,0.2171651033794323,0.5802928055879412,null,0.2171651033794323,0.49994853855280685,null,0.22167632199938347,0.8561898650600402,null,0.22167632199938347,0.4549191953854096,null,0.864598746550414,0.8561898650600402,null,0.5297491526266863,0.3512774989889481,null,0.5297491526266863,0.889527064326721,null,0.6097467880517455,0.9193747826109875,null,0.5283081510152977,0.8561898650600402,null,0.3512774989889481,0.3849778391231068,null,0.3512774989889481,0.7428011313883286,null,0.3512774989889481,0.43604181269905706,null,0.3512774989889481,0.28985367977283116,null,0.3512774989889481,0.9425239774434225,null,0.3512774989889481,0.8561898650600402,null,0.3512774989889481,0.228232825485841,null,0.3512774989889481,0.3294311087252203,null,0.3512774989889481,0.15724472822791558,null,0.3512774989889481,0.7650509142026312,null,0.3512774989889481,0.8678781672676447,null,0.3512774989889481,0.8470579182360951,null,0.3512774989889481,0.17822090790815037,null,0.3512774989889481,0.09108757720823357,null,0.3512774989889481,0.45488612186235533,null,0.3512774989889481,0.8173539332754319,null,0.3512774989889481,0.3313054125124809,null,0.3512774989889481,0.8648369220648555,null,0.3512774989889481,0.7981644367390032,null,0.3512774989889481,0.5324674020469994,null,0.3512774989889481,0.4039822050983741,null,0.3512774989889481,0.4549191953854096,null,0.3512774989889481,0.5403332857090716,null,0.5403332857090716,0.9425239774434225,null,0.5403332857090716,0.36970301436266284,null,0.5403332857090716,0.8678781672676447,null,0.5403332857090716,0.8470579182360951,null,0.5403332857090716,0.12632402450686597,null,0.5403332857090716,0.889527064326721,null,0.5403332857090716,0.028354895536068403,null,0.5403332857090716,0.9738781051340863,null,0.6263462212312872,0.8561898650600402,null,0.6263462212312872,0.4549191953854096,null,0.8077496043290886,0.8561898650600402,null,0.13925757077169765,0.4549191953854096,null,0.3299839421124702,0.8561898650600402,null,0.5661158431538111,0.8561898650600402,null,0.2630105983934927,0.4549191953854096,null,0.2630105983934927,0.9193747826109875,null,0.95502362712654,0.8561898650600402,null,0.95502362712654,0.4549191953854096,null,0.8561898650600402,0.525467036954507,null,0.8561898650600402,0.011274995716791136,null,0.8561898650600402,0.7879555408510256,null,0.8561898650600402,0.842132831120154,null,0.8561898650600402,0.022535615489670424,null,0.8561898650600402,0.6655582805276847,null,0.8561898650600402,0.637963870395912,null,0.8561898650600402,0.14095484249863877,null,0.8561898650600402,0.178850671241358,null,0.8561898650600402,0.06831976674370877,null,0.8561898650600402,0.5188907167945026,null,0.8561898650600402,0.14830548413370703,null,0.8561898650600402,0.7493344917556849,null,0.8561898650600402,0.48342450538517057,null,0.8561898650600402,0.889527064326721,null,0.8561898650600402,0.5757514267589381,null,0.8561898650600402,0.31057283992673357,null,0.8561898650600402,0.93080499394126,null,0.8561898650600402,0.9842980976923432,null,0.8561898650600402,0.7912167076206824,null,0.8561898650600402,0.6022209119234581,null,0.8561898650600402,0.7469174188662728,null,0.8561898650600402,0.6316639509828331,null,0.8561898650600402,0.49994853855280685,null,0.8561898650600402,0.0030180848443861485,null,0.8561898650600402,0.3353411533429198,null,0.8561898650600402,0.28306204180368977,null,0.8561898650600402,0.5324674020469994,null,0.8561898650600402,0.6804549656006104,null,0.8561898650600402,0.4549191953854096,null,0.8561898650600402,0.15724472822791558,null,0.4549191953854096,0.7817455042130848,null,0.4549191953854096,0.7443650776888182,null,0.4549191953854096,0.44712743165658164,null,0.4549191953854096,0.28985367977283116,null,0.4549191953854096,0.659942787436246,null,0.4549191953854096,0.011274995716791136,null,0.4549191953854096,0.9425239774434225,null,0.4549191953854096,0.7615143585510701,null,0.4549191953854096,0.16838852353877565,null,0.4549191953854096,0.6817234584464053,null,0.4549191953854096,0.842132831120154,null,0.4549191953854096,0.15724472822791558,null,0.4549191953854096,0.7760124871661758,null,0.4549191953854096,0.22427150762418047,null,0.4549191953854096,0.14346172559230386,null,0.4549191953854096,0.8678781672676447,null,0.4549191953854096,0.8423297081801043,null,0.4549191953854096,0.48342450538517057,null,0.4549191953854096,0.00852567302186813,null,0.4549191953854096,0.4681915790957948,null,0.4549191953854096,0.8967388306799398,null,0.4549191953854096,0.520730057778061,null,0.4549191953854096,0.1207512643520624,null,0.4549191953854096,0.8470579182360951,null,0.4549191953854096,0.9635825567775704,null,0.4549191953854096,0.889527064326721,null,0.4549191953854096,0.5757514267589381,null,0.4549191953854096,0.31057283992673357,null,0.4549191953854096,0.6363280403502509,null,0.4549191953854096,0.17822090790815037,null,0.4549191953854096,0.6022209119234581,null,0.4549191953854096,0.524628081492078,null,0.4549191953854096,0.9874542563665858,null,0.4549191953854096,0.10916247191136375,null,0.4549191953854096,0.7469174188662728,null,0.4549191953854096,0.9738781051340863,null,0.4549191953854096,0.4743829204587825,null,0.4549191953854096,0.8173539332754319,null,0.4549191953854096,0.9583674495244306,null,0.4549191953854096,0.7509696720627483,null,0.4549191953854096,0.9187764478838352,null,0.4549191953854096,0.9160403972848614,null,0.4549191953854096,0.021397466983457458,null,0.4549191953854096,0.45488612186235533,null,0.4549191953854096,0.0030180848443861485,null,0.4549191953854096,0.7981644367390032,null,0.4549191953854096,0.5594277967880394,null,0.4549191953854096,0.45497765789974165,null,0.4549191953854096,0.0773385747016535,null,0.4549191953854096,0.3353411533429198,null,0.4549191953854096,0.5324674020469994,null,0.4549191953854096,0.6804549656006104,null,0.5324674020469994,0.9193747826109875,null,0.12026323355859192,0.7949381402467981,null,0.12026323355859192,0.1508091472561266,null,0.12026323355859192,0.4435341514542681,null,0.28985367977283116,0.889527064326721,null,0.07523859616485773,0.15724472822791558,null,0.13386851090944196,0.14346172559230386,null,0.011274995716791136,0.15724472822791558,null,0.6022209119234581,0.15724472822791558,null,0.028354895536068403,0.15724472822791558,null,0.3513443847502914,0.889527064326721,null,0.6804549656006104,0.15724472822791558,null,0.49225675347988174,0.889527064326721,null,0.9193747826109875,0.889527064326721,null,0.9193747826109875,0.7981644367390032,null,0.5444081056732588,0.14346172559230386,null,0.22427150762418047,0.889527064326721,null,0.889527064326721,0.05857108981405612,null,0.889527064326721,0.14346172559230386,null],\"y\":[0.6267240726597808,0.1786465369073963,null,0.6267240726597808,0.34702152644980133,null,0.6267240726597808,0.21300819624663014,null,0.6267240726597808,0.8602854591338054,null,0.6267240726597808,0.655380075289459,null,0.6267240726597808,0.6741763229318918,null,0.6267240726597808,0.14359632985149606,null,0.6267240726597808,0.40391456181304286,null,0.6267240726597808,0.40786358966229785,null,0.6267240726597808,0.18104652346085315,null,0.6267240726597808,0.7985587526397768,null,0.6267240726597808,0.23952570170824294,null,0.6267240726597808,0.21430715801971667,null,0.6267240726597808,0.8263774719761157,null,0.6267240726597808,0.8866237798019413,null,0.6267240726597808,0.8190952783807074,null,0.6267240726597808,0.48212607528784324,null,0.6267240726597808,0.7511332916344551,null,0.6267240726597808,0.20141206579872273,null,0.6267240726597808,0.21285977115578736,null,0.6267240726597808,0.929420722206437,null,0.6267240726597808,0.14011527221616282,null,0.6267240726597808,0.7634103478298925,null,0.6267240726597808,0.2950210610659396,null,0.6267240726597808,0.45675132211686353,null,0.6267240726597808,0.1744603742189771,null,0.6267240726597808,0.10542551800641187,null,0.6267240726597808,0.8631415309467166,null,0.6267240726597808,0.5326427476758746,null,0.6267240726597808,0.30536430660788805,null,0.6267240726597808,0.11401711178302898,null,0.6267240726597808,0.4193859529159777,null,0.6267240726597808,0.8037466072321234,null,0.6267240726597808,0.8707550752295066,null,0.6267240726597808,0.791725320986031,null,0.6267240726597808,0.7766332811571818,null,0.6267240726597808,0.9759067451468221,null,0.6267240726597808,0.051143446935779435,null,0.6267240726597808,0.6450151526615024,null,0.6267240726597808,0.7630181038981892,null,0.45564429589952415,0.6741763229318918,null,0.45564429589952415,0.43847501489599006,null,0.1740301094601664,0.6741763229318918,null,0.05038013471086822,0.051810165039833156,null,0.05038013471086822,0.19988165893908183,null,0.5774214683991326,0.10751226409502268,null,0.21300819624663014,0.6741763229318918,null,0.051810165039833156,0.05852050659861885,null,0.051810165039833156,0.8981932003270313,null,0.051810165039833156,0.9193157390495474,null,0.051810165039833156,0.38953876819929356,null,0.051810165039833156,0.12875866590103136,null,0.051810165039833156,0.6741763229318918,null,0.051810165039833156,0.7014740748550834,null,0.051810165039833156,0.13850140419792412,null,0.051810165039833156,0.21430715801971667,null,0.051810165039833156,0.7634103478298925,null,0.051810165039833156,0.10706828324280682,null,0.051810165039833156,0.7192628752516671,null,0.051810165039833156,0.7069467187113403,null,0.051810165039833156,0.13997620117760778,null,0.051810165039833156,0.48916157517154457,null,0.051810165039833156,0.5081846449574673,null,0.051810165039833156,0.3500998054884079,null,0.051810165039833156,0.4294900949703031,null,0.051810165039833156,0.7561468306374481,null,0.051810165039833156,0.5702163317281282,null,0.051810165039833156,0.01033624582619408,null,0.051810165039833156,0.43847501489599006,null,0.051810165039833156,0.7953770612135799,null,0.7953770612135799,0.12875866590103136,null,0.7953770612135799,0.8148275391754682,null,0.7953770612135799,0.10706828324280682,null,0.7953770612135799,0.7192628752516671,null,0.7953770612135799,0.6618585916119277,null,0.7953770612135799,0.19988165893908183,null,0.7953770612135799,0.05960861752899549,null,0.7953770612135799,0.15778921235575394,null,0.929420722206437,0.6741763229318918,null,0.929420722206437,0.43847501489599006,null,0.20141206579872273,0.6741763229318918,null,0.256948088389896,0.43847501489599006,null,0.07141926526377373,0.6741763229318918,null,0.40216830597008046,0.6741763229318918,null,0.4407254501986979,0.43847501489599006,null,0.4407254501986979,0.10751226409502268,null,0.29129268853607726,0.6741763229318918,null,0.29129268853607726,0.43847501489599006,null,0.6741763229318918,0.8602854591338054,null,0.6741763229318918,0.655380075289459,null,0.6741763229318918,0.18104652346085315,null,0.6741763229318918,0.23952570170824294,null,0.6741763229318918,0.7280446015206896,null,0.6741763229318918,0.8263774719761157,null,0.6741763229318918,0.8866237798019413,null,0.6741763229318918,0.923649248308386,null,0.6741763229318918,0.5722487476956525,null,0.6741763229318918,0.7511332916344551,null,0.6741763229318918,0.9047370198165338,null,0.6741763229318918,0.2251760788013334,null,0.6741763229318918,0.14011527221616282,null,0.6741763229318918,0.1744603742189771,null,0.6741763229318918,0.19988165893908183,null,0.6741763229318918,0.19357258743379913,null,0.6741763229318918,0.8274253558723058,null,0.6741763229318918,0.061913981513040395,null,0.6741763229318918,0.8774056777504161,null,0.6741763229318918,0.6079767592217843,null,0.6741763229318918,0.30536430660788805,null,0.6741763229318918,0.4193859529159777,null,0.6741763229318918,0.8707550752295066,null,0.6741763229318918,0.7630181038981892,null,0.6741763229318918,0.5993534916466081,null,0.6741763229318918,0.2755553060106851,null,0.6741763229318918,0.05861958389223376,null,0.6741763229318918,0.5702163317281282,null,0.6741763229318918,0.10969899915199732,null,0.6741763229318918,0.43847501489599006,null,0.6741763229318918,0.21430715801971667,null,0.43847501489599006,0.28934258473387464,null,0.43847501489599006,0.032135537957876825,null,0.43847501489599006,0.5488593547033539,null,0.43847501489599006,0.38953876819929356,null,0.43847501489599006,0.49815342488120506,null,0.43847501489599006,0.655380075289459,null,0.43847501489599006,0.12875866590103136,null,0.43847501489599006,0.4488639397678933,null,0.43847501489599006,0.40786358966229785,null,0.43847501489599006,0.7826561544920319,null,0.43847501489599006,0.23952570170824294,null,0.43847501489599006,0.21430715801971667,null,0.43847501489599006,0.21285977115578736,null,0.43847501489599006,0.2950210610659396,null,0.43847501489599006,0.45675132211686353,null,0.43847501489599006,0.10706828324280682,null,0.43847501489599006,0.8742545490663861,null,0.43847501489599006,0.1744603742189771,null,0.43847501489599006,0.10091411991689292,null,0.43847501489599006,0.8968708179515668,null,0.43847501489599006,0.8070170346295714,null,0.43847501489599006,0.7766332811571818,null,0.43847501489599006,0.8651764264813936,null,0.43847501489599006,0.7192628752516671,null,0.43847501489599006,0.9832826149732757,null,0.43847501489599006,0.19988165893908183,null,0.43847501489599006,0.19357258743379913,null,0.43847501489599006,0.8274253558723058,null,0.43847501489599006,0.22643185085133022,null,0.43847501489599006,0.7069467187113403,null,0.43847501489599006,0.30536430660788805,null,0.43847501489599006,0.09297493427768755,null,0.43847501489599006,0.6436783354834841,null,0.43847501489599006,0.11401711178302898,null,0.43847501489599006,0.4193859529159777,null,0.43847501489599006,0.15778921235575394,null,0.43847501489599006,0.7475819601467246,null,0.43847501489599006,0.5081846449574673,null,0.43847501489599006,0.44885218331302756,null,0.43847501489599006,0.23912414539976445,null,0.43847501489599006,0.7990165338295819,null,0.43847501489599006,0.6600577070290605,null,0.43847501489599006,0.051143446935779435,null,0.43847501489599006,0.48916157517154457,null,0.43847501489599006,0.5993534916466081,null,0.43847501489599006,0.7561468306374481,null,0.43847501489599006,0.730660760552697,null,0.43847501489599006,0.02599094287929249,null,0.43847501489599006,0.6050045704872926,null,0.43847501489599006,0.2755553060106851,null,0.43847501489599006,0.5702163317281282,null,0.43847501489599006,0.10969899915199732,null,0.5702163317281282,0.10751226409502268,null,0.8982983005391307,0.7543130089280717,null,0.8982983005391307,0.6581874630872699,null,0.8982983005391307,0.36004044245112143,null,0.38953876819929356,0.19988165893908183,null,0.4949209957298415,0.21430715801971667,null,0.8501916875144627,0.45675132211686353,null,0.655380075289459,0.21430715801971667,null,0.30536430660788805,0.21430715801971667,null,0.05960861752899549,0.21430715801971667,null,0.4676122926620808,0.19988165893908183,null,0.10969899915199732,0.21430715801971667,null,0.09755967768595364,0.19988165893908183,null,0.10751226409502268,0.19988165893908183,null,0.10751226409502268,0.7561468306374481,null,0.885122847917908,0.45675132211686353,null,0.2950210610659396,0.19988165893908183,null,0.19988165893908183,0.8171743356834588,null,0.19988165893908183,0.45675132211686353,null],\"type\":\"scatter\"},{\"hoverinfo\":\"text\",\"marker\":{\"color\":[40,2,1,2,1,2,1,24,9,1,3,2,1,1,1,2,2,41,1,59,1,1,1,4,1,1,2,1,3,1,1,1,2,3,1,3,2,2,1,1,1,1,1,1,2,1,1,2,3,2,2,1,1,1,2,2,1,1,1,1,1,1,2,1,3,4,1,1,4,2,1,1,3,1,1,1,1,1,1,1,1,5,1,2,1,2,1,1,3,1,2,1,1,11,1,1,3,3,3,1,2,1,1,1,9,1,1,5,2,1,3,1,1,2,2,2,1,2,1,1,1,2,1,2],\"colorbar\":{\"thickness\":15,\"title\":{\"side\":\"right\",\"text\":\"Node Connections\"},\"xanchor\":\"left\"},\"colorscale\":[[0.0,\"rgb(255,255,217)\"],[0.125,\"rgb(237,248,177)\"],[0.25,\"rgb(199,233,180)\"],[0.375,\"rgb(127,205,187)\"],[0.5,\"rgb(65,182,196)\"],[0.625,\"rgb(29,145,192)\"],[0.75,\"rgb(34,94,168)\"],[0.875,\"rgb(37,52,148)\"],[1.0,\"rgb(8,29,88)\"]],\"line\":{\"width\":2},\"reversescale\":true,\"showscale\":true,\"size\":10},\"mode\":\"markers\",\"text\":[\"TableReader.java has 40 connections: BigTableScanner.java,BigTableReader.java,SSTableRewriter.java,IndexSummaryRedistribution.java,IndexSummaryManager.java,ColumnFamilyStore.java,UnfilteredRowIteratorWithLowerBound.java,SerializationHeader.java,Keyspace.java,LifecycleTransaction.java,LogFile.java,Tracker.java,CompactionManager.java,AbstractCompactionStrategy.java,LeveledCompactionStrategy.java,CompactionController.java,Scrubber.java,CompactionAwareWriter.java,TimeWindowCompactionStrategy.java,CompactionIterator.java,CompactionTask.java,DateTieredCompactionStrategy.java,Verifier.java,PartitionRangeReadCommand.java,SinglePartitionReadCommand.java,CommitLogReplayer.java,SSTableIterator.java,AbstractSSTableIterator.java,SSTableReversedIterator.java,StandaloneScrubber.java,SSTableExport.java,StandaloneUpgrader.java,SASIIndex.java,SASIIndexBuilder.java,DataTracker.java,ColumnIndex.java,SSTableIndex.java,SecondaryIndexManager.java,Index.java,TableMetrics.java\",\"DataResolver.java has 2 connections: ColumnFamilyStore.java,DatabaseDescriptor.java\",\"MemtablePool.java has 1 connections: ColumnFamilyStore.java\",\"HintVerbHandler.java has 2 connections: StorageService.java,StorageProxy.java\",\"ResultSet.java has 1 connections: SelectStatement.java\",\"SSTableRewriter.java has 2 connections: ColumnFamilyStore.java,TableReader.java\",\"SerializationHeader.java has 1 connections: TableReader.java\",\"StorageService.java has 24 connections: HintsReader.java,HintVerbHandler.java,HintsDispatchExecutor.java,HintsStore.java,HintsService.java,Gossiper.java,ColumnFamilyStore.java,SizeEstimatesRecorder.java,DiskBoundaries.java,CompactionManager.java,Verifier.java,CommitLog.java,SystemKeyspace.java,JVMStabilityInspector.java,TokenMetadata.java,Message.java,AlterTableStatement.java,ByteOrderedPartitioner.java,BootStrapper.java,CassandraRoleManager.java,RepairRunnable.java,MigrationCoordinator.java,DatabaseDescriptor.java,MessagingService.java\",\"MessagingService.java has 9 connections: Gossiper.java,ColumnFilter.java,CommitLog.java,SystemKeyspace.java,EchoVerbHandler.java,StorageProxy.java,StorageService.java,ActiveRepairService.java,QueryProcessor.java\",\"MigrationCoordinator.java has 1 connections: StorageService.java\",\"CompactionTask.java has 3 connections: ColumnFamilyStore.java,DatabaseDescriptor.java,TableReader.java\",\"TimeWindowCompactionStrategy.java has 2 connections: ColumnFamilyStore.java,TableReader.java\",\"StartupMessage.java has 1 connections: DatabaseDescriptor.java\",\"SSTableTxnWriter.java has 1 connections: ColumnFamilyStore.java\",\"StreamReceiveTask.java has 1 connections: ColumnFamilyStore.java\",\"PasswordAuthenticator.java has 2 connections: DatabaseDescriptor.java,SelectStatement.java\",\"CompactionStrategyManager.java has 2 connections: ColumnFamilyStore.java,DatabaseDescriptor.java\",\"ColumnFamilyStore.java has 41 connections: StorageService.java,SSTableRewriter.java,SSTableTxnWriter.java,IndexSummaryRedistribution.java,IndexSummaryManager.java,LifecycleTransaction.java,Tracker.java,CompactionLogger.java,AbstractCompactionStrategy.java,LeveledCompactionStrategy.java,CompactionStrategyManager.java,MajorLeveledCompactionWriter.java,MaxSSTableSizeWriter.java,CompactionAwareWriter.java,DefaultCompactionWriter.java,TimeWindowCompactionStrategy.java,Upgrader.java,CompactionTask.java,DateTieredCompactionStrategy.java,CommitLogReplayer.java,StorageProxy.java,CassandraDaemon.java,DataResolver.java,StartupChecks.java,HeapPool.java,MemtablePool.java,SlabPool.java,NativePool.java,StandaloneScrubber.java,StandaloneUpgrader.java,SASIIndexBuilder.java,TableMetrics.java,StreamSession.java,StreamReceiveTask.java,RepairJob.java,RepairMessageVerbHandler.java,RepairRunnable.java,AutoSavingCache.java,DatabaseDescriptor.java,CompactionManager.java,TableReader.java\",\"Scrubber.java has 1 connections: TableReader.java\",\"DatabaseDescriptor.java has 59 connections: HintsWriter.java,HintsDescriptor.java,HintsWriteExecutor.java,HintsService.java,SSTableReader.java,IndexSummaryManager.java,Gossiper.java,FailureDetector.java,ColumnFamilyStore.java,Keyspace.java,Memtable.java,Tracker.java,CompactionManager.java,CompactionStrategyManager.java,CompactionIterator.java,CompactionTask.java,PartitionRangeReadCommand.java,SinglePartitionReadCommand.java,CommitLog.java,CommitLogReader.java,CommitLogReplayer.java,CommitLogSegmentManagerCDC.java,CommitLogArchiver.java,PeriodicCommitLogService.java,ColumnIndex.java,Mutation.java,SystemKeyspace.java,ClientState.java,StorageProxy.java,CassandraDaemon.java,StorageService.java,DataResolver.java,StartupChecks.java,FBUtilities.java,JVMStabilityInspector.java,StandaloneScrubber.java,Util.java,BulkLoader.java,SSTableExport.java,StandaloneUpgrader.java,StartupMessage.java,QueryProcessor.java,BatchStatement.java,AlterTableStatement.java,CreateIndexStatement.java,CreateViewStatement.java,QueryOptions.java,TermIterator.java,SecondaryIndexManager.java,Message.java,StreamSession.java,CassandraRoleManager.java,PasswordAuthenticator.java,RolesCache.java,RepairOption.java,RepairSession.java,RepairJob.java,RepairRunnable.java,AutoSavingCache.java\",\"RepairOption.java has 1 connections: DatabaseDescriptor.java\",\"LogFile.java has 1 connections: TableReader.java\",\"CommitLogReader.java has 1 connections: DatabaseDescriptor.java\",\"RepairRunnable.java has 4 connections: StorageService.java,ColumnFamilyStore.java,DatabaseDescriptor.java,SelectStatement.java\",\"SASIIndex.java has 1 connections: TableReader.java\",\"HintsDispatchExecutor.java has 1 connections: StorageService.java\",\"StreamSession.java has 2 connections: ColumnFamilyStore.java,DatabaseDescriptor.java\",\"FBUtilities.java has 1 connections: DatabaseDescriptor.java\",\"NodeProbe.java has 3 connections: Compact.java,NetStats.java,TableStats.java\",\"ByteOrderedPartitioner.java has 1 connections: StorageService.java\",\"RepairMessageVerbHandler.java has 1 connections: ColumnFamilyStore.java\",\"BigTableReader.java has 1 connections: TableReader.java\",\"CompactionIterator.java has 2 connections: DatabaseDescriptor.java,TableReader.java\",\"SystemKeyspace.java has 3 connections: StorageService.java,DatabaseDescriptor.java,MessagingService.java\",\"RolesCache.java has 1 connections: DatabaseDescriptor.java\",\"HintsService.java has 3 connections: StorageService.java,DatabaseDescriptor.java,StorageProxy.java\",\"SecondaryIndexManager.java has 2 connections: DatabaseDescriptor.java,TableReader.java\",\"CompactionAwareWriter.java has 2 connections: ColumnFamilyStore.java,TableReader.java\",\"Compact.java has 1 connections: NodeProbe.java\",\"Mutation.java has 1 connections: DatabaseDescriptor.java\",\"SSTableIterator.java has 1 connections: TableReader.java\",\"CompactionMetrics.java has 1 connections: CompactionManager.java\",\"Index.java has 1 connections: TableReader.java\",\"HintsWriter.java has 1 connections: DatabaseDescriptor.java\",\"ColumnIndex.java has 2 connections: DatabaseDescriptor.java,TableReader.java\",\"AbstractSSTableIterator.java has 1 connections: TableReader.java\",\"AbstractReadExecutor.java has 1 connections: SinglePartitionReadCommand.java\",\"StartupChecks.java has 2 connections: ColumnFamilyStore.java,DatabaseDescriptor.java\",\"StandaloneUpgrader.java has 3 connections: ColumnFamilyStore.java,DatabaseDescriptor.java,TableReader.java\",\"CassandraDaemon.java has 2 connections: ColumnFamilyStore.java,DatabaseDescriptor.java\",\"SASIIndexBuilder.java has 2 connections: ColumnFamilyStore.java,TableReader.java\",\"TableStats.java has 1 connections: NodeProbe.java\",\"Memtable.java has 1 connections: DatabaseDescriptor.java\",\"UnfilteredRowIteratorWithLowerBound.java has 1 connections: TableReader.java\",\"JVMStabilityInspector.java has 2 connections: StorageService.java,DatabaseDescriptor.java\",\"Message.java has 2 connections: StorageService.java,DatabaseDescriptor.java\",\"FailureDetector.java has 1 connections: DatabaseDescriptor.java\",\"EchoVerbHandler.java has 1 connections: MessagingService.java\",\"ColumnFilter.java has 1 connections: MessagingService.java\",\"CommitLogArchiver.java has 1 connections: DatabaseDescriptor.java\",\"MajorLeveledCompactionWriter.java has 1 connections: ColumnFamilyStore.java\",\"CreateIndexStatement.java has 1 connections: DatabaseDescriptor.java\",\"IndexSummaryRedistribution.java has 2 connections: ColumnFamilyStore.java,TableReader.java\",\"CommitLogSegmentManagerCDC.java has 1 connections: DatabaseDescriptor.java\",\"Tracker.java has 3 connections: ColumnFamilyStore.java,DatabaseDescriptor.java,TableReader.java\",\"IndexSummaryManager.java has 4 connections: ColumnFamilyStore.java,DatabaseDescriptor.java,CompactionManager.java,TableReader.java\",\"HintsDescriptor.java has 1 connections: DatabaseDescriptor.java\",\"SlabPool.java has 1 connections: ColumnFamilyStore.java\",\"StandaloneScrubber.java has 4 connections: ColumnFamilyStore.java,DatabaseDescriptor.java,CompactionManager.java,TableReader.java\",\"ActiveRepairService.java has 2 connections: CompactionManager.java,MessagingService.java\",\"TermIterator.java has 1 connections: DatabaseDescriptor.java\",\"ModificationStatement.java has 1 connections: StorageProxy.java\",\"AutoSavingCache.java has 3 connections: ColumnFamilyStore.java,DatabaseDescriptor.java,CompactionManager.java\",\"BigTableScanner.java has 1 connections: TableReader.java\",\"CompactionLogger.java has 1 connections: ColumnFamilyStore.java\",\"TableViews.java has 1 connections: StorageProxy.java\",\"SizeEstimatesRecorder.java has 1 connections: StorageService.java\",\"SSTableIndex.java has 1 connections: TableReader.java\",\"DefaultCompactionWriter.java has 1 connections: ColumnFamilyStore.java\",\"MaxSSTableSizeWriter.java has 1 connections: ColumnFamilyStore.java\",\"CreateViewStatement.java has 1 connections: DatabaseDescriptor.java\",\"SelectStatement.java has 5 connections: StorageProxy.java,ResultSet.java,CassandraRoleManager.java,PasswordAuthenticator.java,RepairRunnable.java\",\"BatchStatement.java has 1 connections: DatabaseDescriptor.java\",\"LifecycleTransaction.java has 2 connections: ColumnFamilyStore.java,TableReader.java\",\"ReplicaFilteringProtection.java has 1 connections: SinglePartitionReadCommand.java\",\"Keyspace.java has 2 connections: DatabaseDescriptor.java,TableReader.java\",\"DataTracker.java has 1 connections: TableReader.java\",\"SSTableReversedIterator.java has 1 connections: TableReader.java\",\"PartitionRangeReadCommand.java has 3 connections: DatabaseDescriptor.java,StorageProxy.java,TableReader.java\",\"TokenMetadata.java has 1 connections: StorageService.java\",\"AbstractCompactionStrategy.java has 2 connections: ColumnFamilyStore.java,TableReader.java\",\"NetStats.java has 1 connections: NodeProbe.java\",\"HintsWriteExecutor.java has 1 connections: DatabaseDescriptor.java\",\"StorageProxy.java has 11 connections: ColumnFamilyStore.java,DatabaseDescriptor.java,HintVerbHandler.java,HintsService.java,PartitionRangeReadCommand.java,TableViews.java,ModificationStatement.java,SelectStatement.java,TraceStateImpl.java,SinglePartitionReadCommand.java,MessagingService.java\",\"SSTableReader.java has 1 connections: DatabaseDescriptor.java\",\"BootStrapper.java has 1 connections: StorageService.java\",\"CassandraRoleManager.java has 3 connections: StorageService.java,DatabaseDescriptor.java,SelectStatement.java\",\"CommitLog.java has 3 connections: StorageService.java,DatabaseDescriptor.java,MessagingService.java\",\"CommitLogReplayer.java has 3 connections: ColumnFamilyStore.java,DatabaseDescriptor.java,TableReader.java\",\"HintsStore.java has 1 connections: StorageService.java\",\"AlterTableStatement.java has 2 connections: StorageService.java,DatabaseDescriptor.java\",\"HeapPool.java has 1 connections: ColumnFamilyStore.java\",\"Util.java has 1 connections: DatabaseDescriptor.java\",\"CompactionController.java has 1 connections: TableReader.java\",\"CompactionManager.java has 9 connections: StorageService.java,DatabaseDescriptor.java,IndexSummaryManager.java,ColumnFamilyStore.java,ActiveRepairService.java,StandaloneScrubber.java,CompactionMetrics.java,AutoSavingCache.java,TableReader.java\",\"ClientState.java has 1 connections: DatabaseDescriptor.java\",\"HintsReader.java has 1 connections: StorageService.java\",\"SinglePartitionReadCommand.java has 5 connections: DatabaseDescriptor.java,TableReader.java,StorageProxy.java,AbstractReadExecutor.java,ReplicaFilteringProtection.java\",\"DateTieredCompactionStrategy.java has 2 connections: ColumnFamilyStore.java,TableReader.java\",\"QueryOptions.java has 1 connections: DatabaseDescriptor.java\",\"Gossiper.java has 3 connections: StorageService.java,DatabaseDescriptor.java,MessagingService.java\",\"NativePool.java has 1 connections: ColumnFamilyStore.java\",\"PeriodicCommitLogService.java has 1 connections: DatabaseDescriptor.java\",\"TableMetrics.java has 2 connections: ColumnFamilyStore.java,TableReader.java\",\"QueryProcessor.java has 2 connections: DatabaseDescriptor.java,MessagingService.java\",\"LeveledCompactionStrategy.java has 2 connections: ColumnFamilyStore.java,TableReader.java\",\"BulkLoader.java has 1 connections: DatabaseDescriptor.java\",\"SSTableExport.java has 2 connections: DatabaseDescriptor.java,TableReader.java\",\"DiskBoundaries.java has 1 connections: StorageService.java\",\"Upgrader.java has 1 connections: ColumnFamilyStore.java\",\"TraceStateImpl.java has 1 connections: StorageProxy.java\",\"Verifier.java has 2 connections: StorageService.java,TableReader.java\",\"RepairSession.java has 1 connections: DatabaseDescriptor.java\",\"RepairJob.java has 2 connections: ColumnFamilyStore.java,DatabaseDescriptor.java\"],\"x\":[0.2171651033794323,0.22167632199938347,0.864598746550414,0.5297491526266863,0.6097467880517455,0.5283081510152977,0.2757398695852029,0.3512774989889481,0.5403332857090716,0.4039822050983741,0.6263462212312872,0.8077496043290886,0.13925757077169765,0.3299839421124702,0.5661158431538111,0.2630105983934927,0.95502362712654,0.8561898650600402,0.9958183074484047,0.4549191953854096,0.45497765789974165,0.26845545073810406,0.8423297081801043,0.5324674020469994,0.48668649639742423,0.7428011313883286,0.0030180848443861485,0.6363280403502509,0.12026323355859192,0.3313054125124809,0.28306204180368977,0.5153152803621383,0.7760124871661758,0.8470579182360951,0.5594277967880394,0.28985367977283116,0.021397466983457458,0.06831976674370877,0.7949381402467981,0.1207512643520624,0.6988614554878702,0.07523859616485773,0.5802928055879412,0.7817455042130848,0.520730057778061,0.7885561251037735,0.13386851090944196,0.31057283992673357,0.7469174188662728,0.5757514267589381,0.6316639509828331,0.4435341514542681,0.6817234584464053,0.7448930137033467,0.17822090790815037,0.45488612186235533,0.7615143585510701,0.12632402450686597,0.36970301436266284,0.4681915790957948,0.14095484249863877,0.9583674495244306,0.525467036954507,0.00852567302186813,0.842132831120154,0.011274995716791136,0.7443650776888182,0.9842980976923432,0.6022209119234581,0.028354895536068403,0.9160403972848614,0.3513443847502914,0.6804549656006104,0.24186960090463616,0.022535615489670424,0.49225675347988174,0.228232825485841,0.8487506710702724,0.5188907167945026,0.178850671241358,0.7509696720627483,0.9193747826109875,0.4743829204587825,0.7879555408510256,0.5444081056732588,0.16838852353877565,0.4784873195450753,0.7186782976928059,0.22427150762418047,0.09108757720823357,0.6655582805276847,0.1508091472561266,0.44712743165658164,0.889527064326721,0.659942787436246,0.8648369220648555,0.7981644367390032,0.8678781672676447,0.48342450538517057,0.43604181269905706,0.8173539332754319,0.93080499394126,0.524628081492078,0.10642747813060927,0.15724472822791558,0.9635825567775704,0.3849778391231068,0.14346172559230386,0.7493344917556849,0.9187764478838352,0.9425239774434225,0.7912167076206824,0.8967388306799398,0.49994853855280685,0.9738781051340863,0.637963870395912,0.9874542563665858,0.10916247191136375,0.3294311087252203,0.14830548413370703,0.05857108981405612,0.7650509142026312,0.0773385747016535,0.3353411533429198],\"y\":[0.6267240726597808,0.45564429589952415,0.1740301094601664,0.05038013471086822,0.5774214683991326,0.21300819624663014,0.40391456181304286,0.051810165039833156,0.7953770612135799,0.01033624582619408,0.929420722206437,0.20141206579872273,0.256948088389896,0.07141926526377373,0.40216830597008046,0.4407254501986979,0.29129268853607726,0.6741763229318918,0.48212607528784324,0.43847501489599006,0.02599094287929249,0.7985587526397768,0.8742545490663861,0.5702163317281282,0.8037466072321234,0.8981932003270313,0.5993534916466081,0.22643185085133022,0.8982983005391307,0.3500998054884079,0.05861958389223376,0.34702152644980133,0.21285977115578736,0.7192628752516671,0.730660760552697,0.38953876819929356,0.051143446935779435,0.7511332916344551,0.7543130089280717,0.8651764264813936,0.10542551800641187,0.4949209957298415,0.6450151526615024,0.28934258473387464,0.7766332811571818,0.8631415309467166,0.8501916875144627,0.8274253558723058,0.4193859529159777,0.19357258743379913,0.8707550752295066,0.36004044245112143,0.7826561544920319,0.14359632985149606,0.7069467187113403,0.48916157517154457,0.4488639397678933,0.6618585916119277,0.8148275391754682,0.8968708179515668,0.923649248308386,0.44885218331302756,0.8602854591338054,0.10091411991689292,0.23952570170824294,0.655380075289459,0.032135537957876825,0.8774056777504161,0.30536430660788805,0.05960861752899549,0.6600577070290605,0.4676122926620808,0.10969899915199732,0.1786465369073963,0.7280446015206896,0.09755967768595364,0.7014740748550834,0.9759067451468221,0.9047370198165338,0.5722487476956525,0.23912414539976445,0.10751226409502268,0.7475819601467246,0.18104652346085315,0.885122847917908,0.40786358966229785,0.791725320986031,0.5326427476758746,0.2950210610659396,0.13997620117760778,0.8263774719761157,0.6581874630872699,0.5488593547033539,0.19988165893908183,0.49815342488120506,0.4294900949703031,0.7561468306374481,0.10706828324280682,0.1744603742189771,0.9193157390495474,0.5081846449574673,0.061913981513040395,0.09297493427768755,0.8190952783807074,0.21430715801971667,0.9832826149732757,0.05852050659861885,0.45675132211686353,0.14011527221616282,0.7990165338295819,0.12875866590103136,0.6079767592217843,0.8070170346295714,0.7630181038981892,0.15778921235575394,0.8866237798019413,0.6436783354834841,0.11401711178302898,0.13850140419792412,0.2251760788013334,0.8171743356834588,0.7634103478298925,0.6050045704872926,0.2755553060106851],\"type\":\"scatter\"}],                        {\"annotations\":[{\"showarrow\":false,\"text\":\"Critical Files and Dependents with co-change\",\"x\":0.005,\"xref\":\"paper\",\"y\":-0.002,\"yref\":\"paper\"}],\"hovermode\":\"closest\",\"margin\":{\"b\":20,\"l\":5,\"r\":5,\"t\":40},\"showlegend\":false,\"title\":{\"font\":{\"size\":16},\"text\":\"Network graph\"},\"xaxis\":{\"showgrid\":false,\"showticklabels\":false,\"zeroline\":false},\"yaxis\":{\"showgrid\":false,\"showticklabels\":false,\"zeroline\":false},\"template\":{\"data\":{\"bar\":[{\"error_x\":{\"color\":\"#2a3f5f\"},\"error_y\":{\"color\":\"#2a3f5f\"},\"marker\":{\"line\":{\"color\":\"#E5ECF6\",\"width\":0.5},\"pattern\":{\"fillmode\":\"overlay\",\"size\":10,\"solidity\":0.2}},\"type\":\"bar\"}],\"barpolar\":[{\"marker\":{\"line\":{\"color\":\"#E5ECF6\",\"width\":0.5},\"pattern\":{\"fillmode\":\"overlay\",\"size\":10,\"solidity\":0.2}},\"type\":\"barpolar\"}],\"carpet\":[{\"aaxis\":{\"endlinecolor\":\"#2a3f5f\",\"gridcolor\":\"white\",\"linecolor\":\"white\",\"minorgridcolor\":\"white\",\"startlinecolor\":\"#2a3f5f\"},\"baxis\":{\"endlinecolor\":\"#2a3f5f\",\"gridcolor\":\"white\",\"linecolor\":\"white\",\"minorgridcolor\":\"white\",\"startlinecolor\":\"#2a3f5f\"},\"type\":\"carpet\"}],\"choropleth\":[{\"colorbar\":{\"outlinewidth\":0,\"ticks\":\"\"},\"type\":\"choropleth\"}],\"contour\":[{\"colorbar\":{\"outlinewidth\":0,\"ticks\":\"\"},\"colorscale\":[[0.0,\"#0d0887\"],[0.1111111111111111,\"#46039f\"],[0.2222222222222222,\"#7201a8\"],[0.3333333333333333,\"#9c179e\"],[0.4444444444444444,\"#bd3786\"],[0.5555555555555556,\"#d8576b\"],[0.6666666666666666,\"#ed7953\"],[0.7777777777777778,\"#fb9f3a\"],[0.8888888888888888,\"#fdca26\"],[1.0,\"#f0f921\"]],\"type\":\"contour\"}],\"contourcarpet\":[{\"colorbar\":{\"outlinewidth\":0,\"ticks\":\"\"},\"type\":\"contourcarpet\"}],\"heatmap\":[{\"colorbar\":{\"outlinewidth\":0,\"ticks\":\"\"},\"colorscale\":[[0.0,\"#0d0887\"],[0.1111111111111111,\"#46039f\"],[0.2222222222222222,\"#7201a8\"],[0.3333333333333333,\"#9c179e\"],[0.4444444444444444,\"#bd3786\"],[0.5555555555555556,\"#d8576b\"],[0.6666666666666666,\"#ed7953\"],[0.7777777777777778,\"#fb9f3a\"],[0.8888888888888888,\"#fdca26\"],[1.0,\"#f0f921\"]],\"type\":\"heatmap\"}],\"heatmapgl\":[{\"colorbar\":{\"outlinewidth\":0,\"ticks\":\"\"},\"colorscale\":[[0.0,\"#0d0887\"],[0.1111111111111111,\"#46039f\"],[0.2222222222222222,\"#7201a8\"],[0.3333333333333333,\"#9c179e\"],[0.4444444444444444,\"#bd3786\"],[0.5555555555555556,\"#d8576b\"],[0.6666666666666666,\"#ed7953\"],[0.7777777777777778,\"#fb9f3a\"],[0.8888888888888888,\"#fdca26\"],[1.0,\"#f0f921\"]],\"type\":\"heatmapgl\"}],\"histogram\":[{\"marker\":{\"pattern\":{\"fillmode\":\"overlay\",\"size\":10,\"solidity\":0.2}},\"type\":\"histogram\"}],\"histogram2d\":[{\"colorbar\":{\"outlinewidth\":0,\"ticks\":\"\"},\"colorscale\":[[0.0,\"#0d0887\"],[0.1111111111111111,\"#46039f\"],[0.2222222222222222,\"#7201a8\"],[0.3333333333333333,\"#9c179e\"],[0.4444444444444444,\"#bd3786\"],[0.5555555555555556,\"#d8576b\"],[0.6666666666666666,\"#ed7953\"],[0.7777777777777778,\"#fb9f3a\"],[0.8888888888888888,\"#fdca26\"],[1.0,\"#f0f921\"]],\"type\":\"histogram2d\"}],\"histogram2dcontour\":[{\"colorbar\":{\"outlinewidth\":0,\"ticks\":\"\"},\"colorscale\":[[0.0,\"#0d0887\"],[0.1111111111111111,\"#46039f\"],[0.2222222222222222,\"#7201a8\"],[0.3333333333333333,\"#9c179e\"],[0.4444444444444444,\"#bd3786\"],[0.5555555555555556,\"#d8576b\"],[0.6666666666666666,\"#ed7953\"],[0.7777777777777778,\"#fb9f3a\"],[0.8888888888888888,\"#fdca26\"],[1.0,\"#f0f921\"]],\"type\":\"histogram2dcontour\"}],\"mesh3d\":[{\"colorbar\":{\"outlinewidth\":0,\"ticks\":\"\"},\"type\":\"mesh3d\"}],\"parcoords\":[{\"line\":{\"colorbar\":{\"outlinewidth\":0,\"ticks\":\"\"}},\"type\":\"parcoords\"}],\"pie\":[{\"automargin\":true,\"type\":\"pie\"}],\"scatter\":[{\"marker\":{\"colorbar\":{\"outlinewidth\":0,\"ticks\":\"\"}},\"type\":\"scatter\"}],\"scatter3d\":[{\"line\":{\"colorbar\":{\"outlinewidth\":0,\"ticks\":\"\"}},\"marker\":{\"colorbar\":{\"outlinewidth\":0,\"ticks\":\"\"}},\"type\":\"scatter3d\"}],\"scattercarpet\":[{\"marker\":{\"colorbar\":{\"outlinewidth\":0,\"ticks\":\"\"}},\"type\":\"scattercarpet\"}],\"scattergeo\":[{\"marker\":{\"colorbar\":{\"outlinewidth\":0,\"ticks\":\"\"}},\"type\":\"scattergeo\"}],\"scattergl\":[{\"marker\":{\"colorbar\":{\"outlinewidth\":0,\"ticks\":\"\"}},\"type\":\"scattergl\"}],\"scattermapbox\":[{\"marker\":{\"colorbar\":{\"outlinewidth\":0,\"ticks\":\"\"}},\"type\":\"scattermapbox\"}],\"scatterpolar\":[{\"marker\":{\"colorbar\":{\"outlinewidth\":0,\"ticks\":\"\"}},\"type\":\"scatterpolar\"}],\"scatterpolargl\":[{\"marker\":{\"colorbar\":{\"outlinewidth\":0,\"ticks\":\"\"}},\"type\":\"scatterpolargl\"}],\"scatterternary\":[{\"marker\":{\"colorbar\":{\"outlinewidth\":0,\"ticks\":\"\"}},\"type\":\"scatterternary\"}],\"surface\":[{\"colorbar\":{\"outlinewidth\":0,\"ticks\":\"\"},\"colorscale\":[[0.0,\"#0d0887\"],[0.1111111111111111,\"#46039f\"],[0.2222222222222222,\"#7201a8\"],[0.3333333333333333,\"#9c179e\"],[0.4444444444444444,\"#bd3786\"],[0.5555555555555556,\"#d8576b\"],[0.6666666666666666,\"#ed7953\"],[0.7777777777777778,\"#fb9f3a\"],[0.8888888888888888,\"#fdca26\"],[1.0,\"#f0f921\"]],\"type\":\"surface\"}],\"table\":[{\"cells\":{\"fill\":{\"color\":\"#EBF0F8\"},\"line\":{\"color\":\"white\"}},\"header\":{\"fill\":{\"color\":\"#C8D4E3\"},\"line\":{\"color\":\"white\"}},\"type\":\"table\"}]},\"layout\":{\"annotationdefaults\":{\"arrowcolor\":\"#2a3f5f\",\"arrowhead\":0,\"arrowwidth\":1},\"autotypenumbers\":\"strict\",\"coloraxis\":{\"colorbar\":{\"outlinewidth\":0,\"ticks\":\"\"}},\"colorscale\":{\"diverging\":[[0,\"#8e0152\"],[0.1,\"#c51b7d\"],[0.2,\"#de77ae\"],[0.3,\"#f1b6da\"],[0.4,\"#fde0ef\"],[0.5,\"#f7f7f7\"],[0.6,\"#e6f5d0\"],[0.7,\"#b8e186\"],[0.8,\"#7fbc41\"],[0.9,\"#4d9221\"],[1,\"#276419\"]],\"sequential\":[[0.0,\"#0d0887\"],[0.1111111111111111,\"#46039f\"],[0.2222222222222222,\"#7201a8\"],[0.3333333333333333,\"#9c179e\"],[0.4444444444444444,\"#bd3786\"],[0.5555555555555556,\"#d8576b\"],[0.6666666666666666,\"#ed7953\"],[0.7777777777777778,\"#fb9f3a\"],[0.8888888888888888,\"#fdca26\"],[1.0,\"#f0f921\"]],\"sequentialminus\":[[0.0,\"#0d0887\"],[0.1111111111111111,\"#46039f\"],[0.2222222222222222,\"#7201a8\"],[0.3333333333333333,\"#9c179e\"],[0.4444444444444444,\"#bd3786\"],[0.5555555555555556,\"#d8576b\"],[0.6666666666666666,\"#ed7953\"],[0.7777777777777778,\"#fb9f3a\"],[0.8888888888888888,\"#fdca26\"],[1.0,\"#f0f921\"]]},\"colorway\":[\"#636efa\",\"#EF553B\",\"#00cc96\",\"#ab63fa\",\"#FFA15A\",\"#19d3f3\",\"#FF6692\",\"#B6E880\",\"#FF97FF\",\"#FECB52\"],\"font\":{\"color\":\"#2a3f5f\"},\"geo\":{\"bgcolor\":\"white\",\"lakecolor\":\"white\",\"landcolor\":\"#E5ECF6\",\"showlakes\":true,\"showland\":true,\"subunitcolor\":\"white\"},\"hoverlabel\":{\"align\":\"left\"},\"hovermode\":\"closest\",\"mapbox\":{\"style\":\"light\"},\"paper_bgcolor\":\"white\",\"plot_bgcolor\":\"#E5ECF6\",\"polar\":{\"angularaxis\":{\"gridcolor\":\"white\",\"linecolor\":\"white\",\"ticks\":\"\"},\"bgcolor\":\"#E5ECF6\",\"radialaxis\":{\"gridcolor\":\"white\",\"linecolor\":\"white\",\"ticks\":\"\"}},\"scene\":{\"xaxis\":{\"backgroundcolor\":\"#E5ECF6\",\"gridcolor\":\"white\",\"gridwidth\":2,\"linecolor\":\"white\",\"showbackground\":true,\"ticks\":\"\",\"zerolinecolor\":\"white\"},\"yaxis\":{\"backgroundcolor\":\"#E5ECF6\",\"gridcolor\":\"white\",\"gridwidth\":2,\"linecolor\":\"white\",\"showbackground\":true,\"ticks\":\"\",\"zerolinecolor\":\"white\"},\"zaxis\":{\"backgroundcolor\":\"#E5ECF6\",\"gridcolor\":\"white\",\"gridwidth\":2,\"linecolor\":\"white\",\"showbackground\":true,\"ticks\":\"\",\"zerolinecolor\":\"white\"}},\"shapedefaults\":{\"line\":{\"color\":\"#2a3f5f\"}},\"ternary\":{\"aaxis\":{\"gridcolor\":\"white\",\"linecolor\":\"white\",\"ticks\":\"\"},\"baxis\":{\"gridcolor\":\"white\",\"linecolor\":\"white\",\"ticks\":\"\"},\"bgcolor\":\"#E5ECF6\",\"caxis\":{\"gridcolor\":\"white\",\"linecolor\":\"white\",\"ticks\":\"\"}},\"title\":{\"x\":0.05},\"xaxis\":{\"automargin\":true,\"gridcolor\":\"white\",\"linecolor\":\"white\",\"ticks\":\"\",\"title\":{\"standoff\":15},\"zerolinecolor\":\"white\",\"zerolinewidth\":2},\"yaxis\":{\"automargin\":true,\"gridcolor\":\"white\",\"linecolor\":\"white\",\"ticks\":\"\",\"title\":{\"standoff\":15},\"zerolinecolor\":\"white\",\"zerolinewidth\":2}}}},                        {\"responsive\": true}                    ).then(function(){\n",
              "                            \n",
              "var gd = document.getElementById('ee962235-49a4-4efb-bcc0-9bab46acd574');\n",
              "var x = new MutationObserver(function (mutations, observer) {{\n",
              "        var display = window.getComputedStyle(gd).display;\n",
              "        if (!display || display === 'none') {{\n",
              "            console.log([gd, 'removed!']);\n",
              "            Plotly.purge(gd);\n",
              "            observer.disconnect();\n",
              "        }}\n",
              "}});\n",
              "\n",
              "// Listen for the removal of the full notebook cells\n",
              "var notebookContainer = gd.closest('#notebook-container');\n",
              "if (notebookContainer) {{\n",
              "    x.observe(notebookContainer, {childList: true});\n",
              "}}\n",
              "\n",
              "// Listen for the clearing of the current output cell\n",
              "var outputEl = gd.closest('.output');\n",
              "if (outputEl) {{\n",
              "    x.observe(outputEl, {childList: true});\n",
              "}}\n",
              "\n",
              "                        })                };                            </script>        </div>\n",
              "</body>\n",
              "</html>"
            ]
          },
          "metadata": {}
        }
      ]
    }
  ]
}